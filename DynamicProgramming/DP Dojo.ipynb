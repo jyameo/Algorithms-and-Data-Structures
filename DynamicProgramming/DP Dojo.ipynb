{
 "cells": [
  {
   "cell_type": "markdown",
   "metadata": {},
   "source": [
    "# House Robber"
   ]
  },
  {
   "cell_type": "code",
   "execution_count": 45,
   "metadata": {
    "collapsed": true
   },
   "outputs": [],
   "source": [
    "class HouseRobberDFS(object):\n",
    "    def rob(self, houses):\n",
    "        if not houses or len(houses) == 0:\n",
    "            return 0\n",
    "        \n",
    "        def dfs(pos):\n",
    "            if pos >= len(houses):\n",
    "                return 0\n",
    "                \n",
    "            opt1 = houses[pos] + dfs(pos+2)\n",
    "            opt2 = dfs(pos+1)\n",
    "            \n",
    "            return max(opt1, opt2)\n",
    "        \n",
    "        return dfs(0)\n",
    "    def rob_2(self,houses):\n",
    "        if not houses or len(houses) == 0:\n",
    "            return 0\n",
    "        if len(houses) == 1:\n",
    "            return houses[0]\n",
    "        if len(houses) == 2:\n",
    "            return max(houses)\n",
    "        \n",
    "        def dfs(pos, bag):\n",
    "            if pos >= len(houses):\n",
    "                return bag\n",
    "            \n",
    "            op1 = dfs(pos+1,bag)\n",
    "            op2 = dfs(pos+2,bag + houses[pos])\n",
    "            return max(op1,op2)\n",
    "        \n",
    "        return dfs(0,0)\n",
    "        \n",
    "\n",
    "class HouseRobberDFS_Cache(object):\n",
    "    def rob(self, houses):\n",
    "        if not houses or len(houses) == 0:\n",
    "            return 0\n",
    "        \n",
    "        cache = [-1] * (len(houses))\n",
    "        \n",
    "        def dfs(pos):\n",
    "            if pos >= len(houses):\n",
    "                return 0\n",
    "            if cache[pos] != -1:\n",
    "                return cache[pos]\n",
    "            opt1 = houses[pos] + dfs(pos+2)\n",
    "            opt2 = dfs(pos+1)\n",
    "            \n",
    "            cache[pos] = max(opt1, opt2)\n",
    "            return cache[pos]\n",
    "        \n",
    "        return dfs(0)  \n",
    "        \n",
    "class HouseRobberDP_1(object):\n",
    "    def rob(self, houses):\n",
    "        if not houses or len(houses) == 0:\n",
    "            return 0\n",
    "        \n",
    "        dp = [-1] * (len(houses))\n",
    "        dp[0] = houses[0]\n",
    "        dp[1] = max(houses[0], houses[1])\n",
    "        \n",
    "        for i in range(2, len(houses)):\n",
    "            opt1 = houses[i] + dp[i-2]\n",
    "            opt2 = dp[i-1]\n",
    "            \n",
    "            dp[i] = max(opt1, opt2)\n",
    "        return dp[-1]\n",
    "    \n",
    "    def rob_dp(self,houses):\n",
    "        dp = [0] * (len(houses))\n",
    "        dp[0] = 0\n",
    "        dp [1] = max(houses[0],houses[1])\n",
    "\n",
    "        for i in range(2,len(houses)):\n",
    "            op1 = dp[i-2] + houses[i]\n",
    "            op2 = dp[i-1]\n",
    "            dp[i] = max(op1,op2)\n",
    "        return dp[-1]\n",
    "        \n",
    "        \n",
    "class HouseRobberDP_2(object):\n",
    "    def rob(self, houses):\n",
    "        if not houses or len(houses) == 0:\n",
    "            return 0\n",
    "        \n",
    "        f0 = houses[0]\n",
    "        f1 = max(houses[0], houses[1])\n",
    "        f2 = f1\n",
    "        for i in range(2, len(houses)):\n",
    "            opt1 = houses[i] + f0\n",
    "            opt2 = f1\n",
    "            \n",
    "            f2 = max(opt1, opt2)\n",
    "            f0 = f1\n",
    "            f1 = f2\n",
    "            \n",
    "        return f2"
   ]
  },
  {
   "cell_type": "code",
   "execution_count": 42,
   "metadata": {},
   "outputs": [
    {
     "name": "stdout",
     "output_type": "stream",
     "text": [
      "House Robber DFS: 8\n",
      "House Robber DFS Cache: 8\n",
      "House Robber DP 1: 8\n",
      "House Robber DP 2: 8\n"
     ]
    }
   ],
   "source": [
    "print(\"House Robber DFS: \" + str(HouseRobberDFS().rob([1,5,4,1,3])))\n",
    "print(\"House Robber DFS Cache: \" + str(HouseRobberDFS_Cache().rob([1,5,4,1,3])))\n",
    "print(\"House Robber DP 1: \" + str(HouseRobberDP_1().rob([1,5,4,1,3])))\n",
    "print(\"House Robber DP 2: \" + str(HouseRobberDP_2().rob([1,5,4,1,3])))"
   ]
  },
  {
   "cell_type": "code",
   "execution_count": 43,
   "metadata": {},
   "outputs": [
    {
     "name": "stdout",
     "output_type": "stream",
     "text": [
      "House Robber DFS_2: 8\n"
     ]
    }
   ],
   "source": [
    "print(\"House Robber DFS_2: \" + str(HouseRobberDFS().rob_2([1,5,4,1,3])))"
   ]
  },
  {
   "cell_type": "code",
   "execution_count": 44,
   "metadata": {},
   "outputs": [
    {
     "name": "stdout",
     "output_type": "stream",
     "text": [
      "House Robber DP 1: 8\n"
     ]
    }
   ],
   "source": [
    "print(\"House Robber DP 1: \" + str(HouseRobberDP_1().rob_dp([1,5,4,1,3])))"
   ]
  },
  {
   "cell_type": "code",
   "execution_count": null,
   "metadata": {
    "collapsed": true
   },
   "outputs": [],
   "source": []
  },
  {
   "cell_type": "code",
   "execution_count": null,
   "metadata": {
    "collapsed": true
   },
   "outputs": [],
   "source": [
    "\n"
   ]
  },
  {
   "cell_type": "markdown",
   "metadata": {},
   "source": [
    "# 1-0 Knapsack\n",
    "\n",
    "Question\n",
    "\n",
    "Given a list of items with values and weights, as well as a max weight, find the maximum value you can generate from items where the sum of the weights is less than the max.\n",
    "\n",
    "eg.\n",
    "\n",
    "\n",
    "items = {(w:1, v:6), (w:2, v:10), (w:3, v:12)}\n",
    "maxWeight = 5\n",
    "knapsack(items, maxWeight) = 22"
   ]
  },
  {
   "cell_type": "code",
   "execution_count": 31,
   "metadata": {
    "collapsed": true
   },
   "outputs": [],
   "source": [
    "def knapsack(items,max_weight):\n",
    "    if not items or max_weight < 0:\n",
    "        return 0\n",
    "    \n",
    "    dp = [[0 for _ in range(max_weight+1)] for _ in range(len(items)+1)]\n",
    "    \n",
    "    weights,values = zip(*items)\n",
    "    \n",
    "    for item in range(1,len(items)+1):\n",
    "        for weight in range(1,max_weight+1):\n",
    "            \n",
    "            not_take = dp[item-1][weight] \n",
    "            take = 0\n",
    "            \n",
    "            if weights[item-1] <= weight:\n",
    "                take = values[item-1] + dp[item-1][weight - weights[item-1]]\n",
    "            \n",
    "            dp[item][weight] = max(take,not_take)\n",
    "    return dp[-1][-1]"
   ]
  },
  {
   "cell_type": "code",
   "execution_count": 32,
   "metadata": {},
   "outputs": [
    {
     "data": {
      "text/plain": [
       "22"
      ]
     },
     "execution_count": 32,
     "metadata": {},
     "output_type": "execute_result"
    }
   ],
   "source": [
    "items = [(1,6), (2, 10), (3,12)]\n",
    "max_weight = 5\n",
    "knapsack(items,max_weight)"
   ]
  },
  {
   "cell_type": "code",
   "execution_count": null,
   "metadata": {
    "collapsed": true
   },
   "outputs": [],
   "source": []
  },
  {
   "cell_type": "code",
   "execution_count": null,
   "metadata": {
    "collapsed": true
   },
   "outputs": [],
   "source": []
  },
  {
   "cell_type": "code",
   "execution_count": null,
   "metadata": {
    "collapsed": true
   },
   "outputs": [],
   "source": []
  },
  {
   "cell_type": "markdown",
   "metadata": {},
   "source": [
    "# Matrix Product\n",
    "Question\n",
    "\n",
    "Given a matrix, find the path from top left to bottom right with the greatest product by moving only down and right.\n",
    "\n",
    "eg:\n",
    "[1, 2, 3]\n",
    "[4, 5, 6]\n",
    "[7, 8, 9]\n",
    "\n",
    "1 -> 4 -> 7 -> 8 -> 9\n",
    "2016\n",
    "\n",
    "[-1, 2, 3]\n",
    "[4, 5, -6]\n",
    "[7, 8, 9]\n",
    "\n",
    "-1 -> 4 -> 5 -> -6 -> 9\n",
    "1080"
   ]
  },
  {
   "cell_type": "code",
   "execution_count": 23,
   "metadata": {
    "collapsed": true
   },
   "outputs": [],
   "source": [
    "from sys import maxsize\n",
    "def matrix_product(matrix):\n",
    "    if not matrix or len(matrix) == 0 or len(matrix[0]) == 0:\n",
    "        return 0\n",
    "    n = len(matrix)\n",
    "    m = len(matrix)\n",
    "    \n",
    "    min_product = [[0 for _ in range(m)] for _ in range(n)]\n",
    "    max_product = [[0 for _ in range(m)] for _ in range(n)]\n",
    "    \n",
    "    for i in range(n):\n",
    "        for j in range(m):\n",
    "            max_val = -maxsize\n",
    "            min_val = maxsize\n",
    "            if i ==0 and j == 0:\n",
    "                min_product[i][j] = matrix[i][j]\n",
    "                max_product[i][j] = matrix[i][j]\n",
    "                continue\n",
    "            if i > 0:\n",
    "                max_val = max(max_val, matrix[i][j] * max_product[i-1][j],matrix[i][j] * min_product[i-1][j])\n",
    "                min_val = min(min_val,matrix[i][j] * max_product[i-1][j],matrix[i][j] * min_product[i-1][j])\n",
    "            if j > 0:\n",
    "                max_val = max(max_val, matrix[i][j] * max_product[i][j-1],matrix[i][j] * min_product[i][j-1])\n",
    "                min_val = min(min_val,matrix[i][j] * max_product[i][j-1],matrix[i][j] * min_product[i][j-1])\n",
    "            max_product[i][j] = max_val\n",
    "            min_product[i][j] = min_val\n",
    "    return max_product[-1][-1]"
   ]
  },
  {
   "cell_type": "code",
   "execution_count": 24,
   "metadata": {
    "collapsed": true
   },
   "outputs": [],
   "source": [
    "m1 = [ \n",
    "        [1,2,3],\n",
    "        [4,5,6],\n",
    "        [7,8,9]\n",
    "                ] \n",
    "\n",
    "m2 = [ \n",
    "        [-1,2,3],\n",
    "        [4,5,-6],\n",
    "        [7,8,9]\n",
    "                ] "
   ]
  },
  {
   "cell_type": "code",
   "execution_count": null,
   "metadata": {},
   "outputs": [],
   "source": []
  },
  {
   "cell_type": "code",
   "execution_count": 25,
   "metadata": {},
   "outputs": [],
   "source": [
    "assert(matrix_product(m1) == 2016)\n",
    "assert(matrix_product(m2) == 1080)"
   ]
  },
  {
   "cell_type": "code",
   "execution_count": null,
   "metadata": {
    "collapsed": true
   },
   "outputs": [],
   "source": []
  },
  {
   "cell_type": "code",
   "execution_count": null,
   "metadata": {
    "collapsed": true
   },
   "outputs": [],
   "source": []
  },
  {
   "cell_type": "markdown",
   "metadata": {},
   "source": [
    "# Number of Islands\n",
    "\n",
    "Given a boolean 2D matrix, 0 is represented as the sea, 1 is represented as the island. If two 1 is adjacent, we consider them in the same island. We only consider up/down/left/right adjacent.\n",
    "\n",
    "Find the number of islands."
   ]
  },
  {
   "cell_type": "code",
   "execution_count": 10,
   "metadata": {
    "collapsed": true
   },
   "outputs": [],
   "source": [
    "def number_of_islands(matrix):\n",
    "    if not matrix or len(matrix) == 0 or len(matrix[0]) == 0:\n",
    "        raise ValueError\n",
    "\n",
    "    island_count = 0\n",
    "    for i in range(len(matrix)):\n",
    "        for j in range(len(matrix[0])):\n",
    "            if matrix[i][j] == 1:\n",
    "                traverse_island(matrix,i,j)\n",
    "                island_count += 1\n",
    "    return island_count\n",
    "\n",
    "def traverse_island(matrix,row,col):\n",
    "    if row < 0 or row >= len(matrix) or col < 0 or col >= len(matrix[0]):\n",
    "        return 0\n",
    "    if matrix[row][col] == 0:\n",
    "        return 0\n",
    "    \n",
    "    matrix[row][col] = 0\n",
    "    size = 1\n",
    "    size += traverse_island(matrix,row+1,col)\n",
    "    size += traverse_island(matrix,row-1,col)\n",
    "    size += traverse_island(matrix,row,col+1)\n",
    "    size += traverse_island(matrix,row,col-1)\n",
    "    return size"
   ]
  },
  {
   "cell_type": "code",
   "execution_count": 14,
   "metadata": {
    "collapsed": true
   },
   "outputs": [],
   "source": [
    "islands = [\n",
    "  [1, 1, 0, 0, 0],\n",
    "  [0, 1, 0, 0, 1],\n",
    "  [0, 0, 0, 1, 1],\n",
    "  [0, 0, 0, 0, 0],\n",
    "  [0, 0, 0, 0, 1]\n",
    "]\n",
    "assert(number_of_islands(islands) == 3)"
   ]
  },
  {
   "cell_type": "code",
   "execution_count": 13,
   "metadata": {},
   "outputs": [
    {
     "data": {
      "text/plain": [
       "0"
      ]
     },
     "execution_count": 13,
     "metadata": {},
     "output_type": "execute_result"
    }
   ],
   "source": []
  },
  {
   "cell_type": "code",
   "execution_count": null,
   "metadata": {
    "collapsed": true
   },
   "outputs": [],
   "source": []
  },
  {
   "cell_type": "markdown",
   "metadata": {},
   "source": [
    "# Square SubMatrix\n",
    "\n",
    "Given a 2D array of 1s and 0s, find the largest square subarray of all 1s."
   ]
  },
  {
   "cell_type": "code",
   "execution_count": 38,
   "metadata": {
    "collapsed": true
   },
   "outputs": [],
   "source": [
    "def square_sub_matrix(matrix):\n",
    "    if not matrix or len(matrix) == 0 or len(matrix[0]) == 0:\n",
    "        raise ValueError(\"wrong value!\")\n",
    "    n = len(matrix)\n",
    "    m = len(matrix[0])\n",
    "    dp = [[0 for _ in range(m)] for _ in range(n)]\n",
    "    \n",
    "    largest = 0 \n",
    "    for row in range(n):\n",
    "        for col in range(m):\n",
    "            if row == 0 or col == 0:\n",
    "                dp[row][col] = matrix[row][col]\n",
    "            elif matrix[row][col] == 1:\n",
    "                dp[row][col] = min(dp[row-1][col],dp[row][col-1],dp[row-1][col-1]) + 1\n",
    "            largest = max(largest,dp[row][col])\n",
    "    return largest"
   ]
  },
  {
   "cell_type": "code",
   "execution_count": 43,
   "metadata": {},
   "outputs": [],
   "source": [
    "matrix = [\n",
    "    [1, 1, 1, 0],\n",
    "    [1, 1, 1, 1],\n",
    "    [1, 1, 1, 0],\n",
    "    [1, 1, 1, 0]\n",
    "    ]\n",
    "assert(square_sub_matrix(matrix) == 3)"
   ]
  },
  {
   "cell_type": "markdown",
   "metadata": {},
   "source": [
    "# Longest Common Substring\n",
    "\n",
    "Question\n",
    "\n",
    "Given two strings, write a function that returns the longest common substring."
   ]
  },
  {
   "cell_type": "code",
   "execution_count": 55,
   "metadata": {},
   "outputs": [
    {
     "data": {
      "text/plain": [
       "'\\n     z a b c\\n   a 0 1 0 0 \\n   b 0 0 2 0\\n   d 0 0 0 0\\n'"
      ]
     },
     "execution_count": 55,
     "metadata": {},
     "output_type": "execute_result"
    }
   ],
   "source": [
    " '''\n",
    "      z a b c\n",
    "    a 0 1 0 0 \n",
    "    b 0 0 2 0\n",
    "    d 0 0 0 0\n",
    "'''"
   ]
  },
  {
   "cell_type": "code",
   "execution_count": 46,
   "metadata": {
    "collapsed": true
   },
   "outputs": [],
   "source": [
    "def longest_common_string(string1, string2):\n",
    "    if not string1 or not string2:\n",
    "        return 0\n",
    "    n = len(string1)\n",
    "    m =  len(string2)\n",
    "    \n",
    "    dp = [[0 for _ in range(m)] for _ in range(n)]\n",
    "    longest = 0\n",
    "    output = \"\"\n",
    "    for row in range(n):\n",
    "        for col in range(m):\n",
    "            if string1[row] == string2[col]:\n",
    "                if row == 0 or col == 0:\n",
    "                    dp[row][col] = 1\n",
    "                else:\n",
    "                    dp[row][col] = dp[row-1][col-1] + 1\n",
    "                \n",
    "                if dp[row][col] > longest:\n",
    "                    longest = dp[row][col]\n",
    "                    output = string1[row-longest+1:row+1]\n",
    "    return output            "
   ]
  },
  {
   "cell_type": "code",
   "execution_count": 51,
   "metadata": {},
   "outputs": [
    {
     "data": {
      "text/plain": [
       "'ab'"
      ]
     },
     "execution_count": 51,
     "metadata": {},
     "output_type": "execute_result"
    }
   ],
   "source": [
    "longest_common_string(\"zabc\",\"abd\")"
   ]
  },
  {
   "cell_type": "code",
   "execution_count": null,
   "metadata": {
    "collapsed": true
   },
   "outputs": [],
   "source": []
  },
  {
   "cell_type": "markdown",
   "metadata": {},
   "source": [
    "# Deletion Distance\n",
    "\n",
    "The deletion distance of two strings is the minimum number of characters you need to delete in the two strings in order to get the same string. For instance, the deletion distance between \"heat\" and \"hit\" is 3:\n",
    "\n",
    "By deleting 'e' and 'a' in \"heat\", and 'i' in \"hit\", we get the string \"ht\" in both cases.\n",
    "We cannot get the same string from both strings by deleting 2 letters or fewer.\n",
    "Given the strings str1 and str2, write an efficient function deletionDistance that returns the deletion distance between them. Explain how your function works, and analyze its time and space complexities.\n",
    "\n",
    "Examples:\n",
    "\n",
    "input:  str1 = \"dog\", str2 = \"frog\"\n",
    "output: 3\n",
    "\n",
    "input:  str1 = \"some\", str2 = \"some\"\n",
    "output: 0"
   ]
  },
  {
   "cell_type": "code",
   "execution_count": 56,
   "metadata": {},
   "outputs": [
    {
     "data": {
      "text/plain": [
       "'  \\n    0 d o g\\n    0 0 1 2 3\\n    f 1 2 3 4\\n    r 2 3 4 5\\n    o 3 4 3 4\\n    g 4 5 4 3\\n'"
      ]
     },
     "execution_count": 56,
     "metadata": {},
     "output_type": "execute_result"
    }
   ],
   "source": [
    "'''  \n",
    "      0 d o g\n",
    "    0 0 1 2 3\n",
    "    f 1 2 3 4\n",
    "    r 2 3 4 5\n",
    "    o 3 4 3 4\n",
    "    g 4 5 4 3\n",
    "'''"
   ]
  },
  {
   "cell_type": "code",
   "execution_count": 62,
   "metadata": {},
   "outputs": [],
   "source": [
    "def deletion_distance(string1,string2):\n",
    "    if not string1:\n",
    "        return len(string2)\n",
    "    if not string2:\n",
    "        return len(string1)\n",
    "    n = len(string1)\n",
    "    m = len(string2)\n",
    "    dp = [[0 for _ in range(m+1)] for _ in range(n+1)]\n",
    "    \n",
    "    for row in range(n+1):\n",
    "        for col in range(m+1):\n",
    "            if row == 0:\n",
    "                dp[row][col] = col\n",
    "            elif col == 0:\n",
    "                dp[row][col] = row\n",
    "            elif string1[row-1] == string2[col-1]:\n",
    "                dp[row][col] = dp[row-1][col-1]\n",
    "            else:\n",
    "                dp[row][col] = min(dp[row-1][col],dp[row][col-1]) + 1\n",
    "    return dp[-1][-1]"
   ]
  },
  {
   "cell_type": "code",
   "execution_count": 65,
   "metadata": {},
   "outputs": [],
   "source": [
    "assert(deletion_distance(\"dog\",\"frog\")==3)\n",
    "assert(deletion_distance(\"some\",\"thing\")==9)"
   ]
  },
  {
   "cell_type": "code",
   "execution_count": null,
   "metadata": {
    "collapsed": true
   },
   "outputs": [],
   "source": []
  },
  {
   "cell_type": "code",
   "execution_count": null,
   "metadata": {
    "collapsed": true
   },
   "outputs": [],
   "source": []
  },
  {
   "cell_type": "markdown",
   "metadata": {},
   "source": [
    "# Coin Change\n",
    "\n",
    "Question\n",
    "\n",
    "Given an input amount of change x, write a function to determine the minimum number of coins required to make that amount of change."
   ]
  },
  {
   "cell_type": "code",
   "execution_count": 66,
   "metadata": {},
   "outputs": [
    {
     "data": {
      "text/plain": [
       "'\\n      1 5 10 25\\n    3 3 0  0  0\\n    7 7 1\\n    21\\n    35\\n'"
      ]
     },
     "execution_count": 66,
     "metadata": {},
     "output_type": "execute_result"
    }
   ],
   "source": [
    "'''\n",
    "      1 5 10 25\n",
    "    3 3 0  0  0\n",
    "    7 7 1\n",
    "    21\n",
    "    35\n",
    "'''"
   ]
  },
  {
   "cell_type": "code",
   "execution_count": 103,
   "metadata": {},
   "outputs": [],
   "source": [
    "def number_of_ways_coin_change(amount, coins, index):\n",
    "    if amount < 0 or index == len(coins):\n",
    "        return 0\n",
    "    if amount == 0:\n",
    "        return 1\n",
    "\n",
    "    return number_of_ways_coin_change(amount - coins[index], coins, index)\\\n",
    "            + number_of_ways_coin_change(amount, coins, index + 1)"
   ]
  },
  {
   "cell_type": "code",
   "execution_count": 104,
   "metadata": {},
   "outputs": [
    {
     "data": {
      "text/plain": [
       "4"
      ]
     },
     "execution_count": 104,
     "metadata": {},
     "output_type": "execute_result"
    }
   ],
   "source": [
    "number_of_ways_coin_change(10,[1,5,10,25],0)"
   ]
  },
  {
   "cell_type": "code",
   "execution_count": 105,
   "metadata": {},
   "outputs": [],
   "source": [
    "from sys import maxsize\n",
    "def minimum_coin_change(amount, coins, index, coin_number):\n",
    "    if amount < 0 or index == len(coins):\n",
    "        return maxsize\n",
    "    if amount == 0:\n",
    "        return coin_number\n",
    "    \n",
    "    return min(minimum_coin_change(amount-coins[index],coins,index,coin_number+1),minimum_coin_change(amount,coins,index+1,coin_number))"
   ]
  },
  {
   "cell_type": "code",
   "execution_count": 106,
   "metadata": {},
   "outputs": [],
   "source": [
    "assert(minimum_coin_change(1,[1,5,10,25],0,0)==1)\n",
    "assert(minimum_coin_change(3,[1,5,10,25],0,0)==3)\n",
    "assert(minimum_coin_change(7,[1,5,10,25],0,0)==3)\n",
    "assert(minimum_coin_change(32,[1,5,10,25],0,0)==4)"
   ]
  },
  {
   "cell_type": "code",
   "execution_count": null,
   "metadata": {
    "collapsed": true
   },
   "outputs": [],
   "source": []
  }
 ],
 "metadata": {
  "kernelspec": {
   "display_name": "Python 3",
   "language": "python",
   "name": "python3"
  },
  "language_info": {
   "codemirror_mode": {
    "name": "ipython",
    "version": 3
   },
   "file_extension": ".py",
   "mimetype": "text/x-python",
   "name": "python",
   "nbconvert_exporter": "python",
   "pygments_lexer": "ipython3",
   "version": "3.6.2"
  }
 },
 "nbformat": 4,
 "nbformat_minor": 2
}
