{
 "cells": [
  {
   "cell_type": "markdown",
   "metadata": {},
   "source": [
    "# House Robber"
   ]
  },
  {
   "cell_type": "code",
   "execution_count": 45,
   "metadata": {},
   "outputs": [],
   "source": [
    "class HouseRobberDFS(object):\n",
    "    def rob(self, houses):\n",
    "        if not houses or len(houses) == 0:\n",
    "            return 0\n",
    "        \n",
    "        def dfs(pos):\n",
    "            if pos >= len(houses):\n",
    "                return 0\n",
    "                \n",
    "            opt1 = houses[pos] + dfs(pos+2)\n",
    "            opt2 = dfs(pos+1)\n",
    "            \n",
    "            return max(opt1, opt2)\n",
    "        \n",
    "        return dfs(0)\n",
    "    def rob_2(self,houses):\n",
    "        if not houses or len(houses) == 0:\n",
    "            return 0\n",
    "        if len(houses) == 1:\n",
    "            return houses[0]\n",
    "        if len(houses) == 2:\n",
    "            return max(houses)\n",
    "        \n",
    "        def dfs(pos, bag):\n",
    "            if pos >= len(houses):\n",
    "                return bag\n",
    "            \n",
    "            op1 = dfs(pos+1,bag)\n",
    "            op2 = dfs(pos+2,bag + houses[pos])\n",
    "            return max(op1,op2)\n",
    "        \n",
    "        return dfs(0,0)\n",
    "        \n",
    "\n",
    "class HouseRobberDFS_Cache(object):\n",
    "    def rob(self, houses):\n",
    "        if not houses or len(houses) == 0:\n",
    "            return 0\n",
    "        \n",
    "        cache = [-1] * (len(houses))\n",
    "        \n",
    "        def dfs(pos):\n",
    "            if pos >= len(houses):\n",
    "                return 0\n",
    "            if cache[pos] != -1:\n",
    "                return cache[pos]\n",
    "            opt1 = houses[pos] + dfs(pos+2)\n",
    "            opt2 = dfs(pos+1)\n",
    "            \n",
    "            cache[pos] = max(opt1, opt2)\n",
    "            return cache[pos]\n",
    "        \n",
    "        return dfs(0)  \n",
    "        \n",
    "class HouseRobberDP_1(object):\n",
    "    def rob(self, houses):\n",
    "        if not houses or len(houses) == 0:\n",
    "            return 0\n",
    "        \n",
    "        dp = [-1] * (len(houses))\n",
    "        dp[0] = houses[0]\n",
    "        dp[1] = max(houses[0], houses[1])\n",
    "        \n",
    "        for i in range(2, len(houses)):\n",
    "            opt1 = houses[i] + dp[i-2]\n",
    "            opt2 = dp[i-1]\n",
    "            \n",
    "            dp[i] = max(opt1, opt2)\n",
    "        return dp[-1]\n",
    "    \n",
    "    def rob_dp(self,houses):\n",
    "        dp = [0] * (len(houses))\n",
    "        dp[0] = 0\n",
    "        dp [1] = max(houses[0],houses[1])\n",
    "\n",
    "        for i in range(2,len(houses)):\n",
    "            op1 = dp[i-2] + houses[i]\n",
    "            op2 = dp[i-1]\n",
    "            dp[i] = max(op1,op2)\n",
    "        return dp[-1]\n",
    "        \n",
    "        \n",
    "class HouseRobberDP_2(object):\n",
    "    def rob(self, houses):\n",
    "        if not houses or len(houses) == 0:\n",
    "            return 0\n",
    "        \n",
    "        f0 = houses[0]\n",
    "        f1 = max(houses[0], houses[1])\n",
    "        f2 = f1\n",
    "        for i in range(2, len(houses)):\n",
    "            opt1 = houses[i] + f0\n",
    "            opt2 = f1\n",
    "            \n",
    "            f2 = max(opt1, opt2)\n",
    "            f0 = f1\n",
    "            f1 = f2\n",
    "            \n",
    "        return f2"
   ]
  },
  {
   "cell_type": "code",
   "execution_count": 42,
   "metadata": {},
   "outputs": [
    {
     "name": "stdout",
     "output_type": "stream",
     "text": [
      "House Robber DFS: 8\n",
      "House Robber DFS Cache: 8\n",
      "House Robber DP 1: 8\n",
      "House Robber DP 2: 8\n"
     ]
    }
   ],
   "source": [
    "print(\"House Robber DFS: \" + str(HouseRobberDFS().rob([1,5,4,1,3])))\n",
    "print(\"House Robber DFS Cache: \" + str(HouseRobberDFS_Cache().rob([1,5,4,1,3])))\n",
    "print(\"House Robber DP 1: \" + str(HouseRobberDP_1().rob([1,5,4,1,3])))\n",
    "print(\"House Robber DP 2: \" + str(HouseRobberDP_2().rob([1,5,4,1,3])))"
   ]
  },
  {
   "cell_type": "code",
   "execution_count": 43,
   "metadata": {},
   "outputs": [
    {
     "name": "stdout",
     "output_type": "stream",
     "text": [
      "House Robber DFS_2: 8\n"
     ]
    }
   ],
   "source": [
    "print(\"House Robber DFS_2: \" + str(HouseRobberDFS().rob_2([1,5,4,1,3])))"
   ]
  },
  {
   "cell_type": "code",
   "execution_count": 44,
   "metadata": {},
   "outputs": [
    {
     "name": "stdout",
     "output_type": "stream",
     "text": [
      "House Robber DP 1: 8\n"
     ]
    }
   ],
   "source": [
    "print(\"House Robber DP 1: \" + str(HouseRobberDP_1().rob_dp([1,5,4,1,3])))"
   ]
  },
  {
   "cell_type": "code",
   "execution_count": null,
   "metadata": {},
   "outputs": [],
   "source": []
  },
  {
   "cell_type": "code",
   "execution_count": null,
   "metadata": {
    "collapsed": true
   },
   "outputs": [],
   "source": []
  }
 ],
 "metadata": {
  "kernelspec": {
   "display_name": "Python 3",
   "language": "python",
   "name": "python3"
  },
  "language_info": {
   "codemirror_mode": {
    "name": "ipython",
    "version": 3
   },
   "file_extension": ".py",
   "mimetype": "text/x-python",
   "name": "python",
   "nbconvert_exporter": "python",
   "pygments_lexer": "ipython3",
   "version": "3.6.2"
  }
 },
 "nbformat": 4,
 "nbformat_minor": 2
}
