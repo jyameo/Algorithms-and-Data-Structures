{
 "cells": [
  {
   "cell_type": "markdown",
   "metadata": {},
   "source": [
    "# Tree Traversal\n",
    "\n",
    "Question\n",
    "\n",
    "Given a binary search tree, print out the elements of the tree in order without using recursion."
   ]
  },
  {
   "cell_type": "code",
   "execution_count": 1,
   "metadata": {
    "collapsed": true
   },
   "outputs": [],
   "source": [
    "class Node:\n",
    "    def __init__(self,value):\n",
    "        self.value = value\n",
    "        self.left = None\n",
    "        self.right = None\n",
    "        \n",
    "class TreeTraversal:\n",
    "    def traverse_it(node):\n",
    "        if not node:\n",
    "            raise TypeError(\"Initialized with invalid node\")\n",
    "\n",
    "        stack = []\n",
    "\n",
    "        while node:\n",
    "            stack.append(node)\n",
    "            node = node.left\n",
    "        \n",
    "        while stack:\n",
    "            node = stack.pop()\n",
    "            print(node.value)\n",
    "            if node.right:\n",
    "                node = node.right\n",
    "                while node:\n",
    "                    stack.append(node)\n",
    "                    node = node.left"
   ]
  },
  {
   "cell_type": "code",
   "execution_count": 2,
   "metadata": {
    "collapsed": true
   },
   "outputs": [],
   "source": [
    "n8 = Node(8)\n",
    "n7 = Node(7)\n",
    "n6 = Node(6)\n",
    "n5 = Node(5)\n",
    "n3 = Node(3)\n",
    "n2 = Node(2)\n",
    "n1 = Node(1)\n",
    "n5.left = n2\n",
    "n5.right = n7\n",
    "n2.left = n1\n",
    "n2.right = n3\n",
    "n7.left = n6\n",
    "n7.right = n8"
   ]
  },
  {
   "cell_type": "code",
   "execution_count": 3,
   "metadata": {},
   "outputs": [
    {
     "name": "stdout",
     "output_type": "stream",
     "text": [
      "1\n",
      "2\n",
      "3\n",
      "5\n",
      "6\n",
      "7\n",
      "8\n"
     ]
    }
   ],
   "source": [
    "TreeTraversal.traverse_it(n5)"
   ]
  },
  {
   "cell_type": "code",
   "execution_count": null,
   "metadata": {
    "collapsed": true
   },
   "outputs": [],
   "source": []
  },
  {
   "cell_type": "code",
   "execution_count": null,
   "metadata": {
    "collapsed": true
   },
   "outputs": [],
   "source": []
  },
  {
   "cell_type": "markdown",
   "metadata": {},
   "source": [
    "# Trie Tree\n",
    "Question\n",
    "\n",
    "Write an autocomplete class that returns all dictionary words with a given prefix.\n",
    "\n",
    "eg.\n",
    "\n",
    "\n",
    "dict:   {\"abc\", \"acd\", \"bcd\", \"def\", \"a\", \"aba\"}\n",
    "\n",
    "prefix: \"a\" -> \"abc\", \"acd\", \"a\", \"aba\"\n",
    "prefix: \"b\" -> \"bcd\""
   ]
  },
  {
   "cell_type": "code",
   "execution_count": 33,
   "metadata": {
    "collapsed": true
   },
   "outputs": [],
   "source": [
    "class TrieNode:\n",
    "    def __init__(self,label=None,data=None):\n",
    "        self.label = label\n",
    "        self.data = data\n",
    "        self.children = {}\n",
    "        \n",
    "class TrieTree:\n",
    "    def __init__(self):\n",
    "        self.root = TrieNode()\n",
    "        \n",
    "    def add(self, word):\n",
    "        if not word:\n",
    "            return \n",
    "        \n",
    "        current = self.root\n",
    "        for i in range(len(word)):\n",
    "            if word[i] in current.children:\n",
    "                current = current.children[word[i]]\n",
    "            else:\n",
    "                break\n",
    "                \n",
    "        while i < len(word):\n",
    "            current.children[word[i]] = TrieNode(word[i])\n",
    "            current = current.children[word[i]]\n",
    "            i += 1\n",
    "        \n",
    "        current.data = word\n",
    "        \n",
    "    \n",
    "    def has_prefix(self, prefix):\n",
    "        if not self.root:\n",
    "            return []\n",
    "        \n",
    "        current = self.root\n",
    "        for i in range(len(prefix)):\n",
    "            if prefix[i] in current.children:\n",
    "                current = current.children[prefix[i]]\n",
    "            else:\n",
    "                return []\n",
    "            \n",
    "        q = []\n",
    "        if current == self.root:\n",
    "            q = [node for node in current.children.values()]\n",
    "        else:\n",
    "            q = [current]\n",
    "            \n",
    "        words = []\n",
    "        while q:\n",
    "            node = q.pop(0)\n",
    "            if node.data != None:\n",
    "                words.append(node.data)\n",
    "            \n",
    "            for child in node.children.values():\n",
    "                q.append(child)\n",
    "        return words"
   ]
  },
  {
   "cell_type": "code",
   "execution_count": 34,
   "metadata": {
    "collapsed": true
   },
   "outputs": [],
   "source": [
    "words = [\"abc\", \"acd\", \"bcd\", \"def\", \"a\", \"aba\"]\n",
    "t = TrieTree()\n",
    "for word in words:\n",
    "    t.add(word)"
   ]
  },
  {
   "cell_type": "code",
   "execution_count": 35,
   "metadata": {},
   "outputs": [
    {
     "data": {
      "text/plain": [
       "['a', 'abc', 'aba', 'acd']"
      ]
     },
     "execution_count": 35,
     "metadata": {},
     "output_type": "execute_result"
    }
   ],
   "source": [
    "t.has_prefix('a')"
   ]
  },
  {
   "cell_type": "markdown",
   "metadata": {
    "collapsed": true
   },
   "source": []
  },
  {
   "cell_type": "code",
   "execution_count": null,
   "metadata": {
    "collapsed": true
   },
   "outputs": [],
   "source": []
  },
  {
   "cell_type": "markdown",
   "metadata": {},
   "source": [
    "# Lowest Common Ancestor\n",
    "\n",
    "Question\n",
    "\n",
    "Given two nodes in a binary tree, write a function to find the lowest common ancestor."
   ]
  },
  {
   "cell_type": "code",
   "execution_count": 5,
   "metadata": {
    "collapsed": true
   },
   "outputs": [],
   "source": [
    "class Node:\n",
    "    def __init__(self, value):\n",
    "        self.value = value\n",
    "        self.left = None\n",
    "        self.right = None"
   ]
  },
  {
   "cell_type": "code",
   "execution_count": 140,
   "metadata": {
    "collapsed": true
   },
   "outputs": [],
   "source": [
    "class LCA:\n",
    "    def compute(self,tree,a,b):\n",
    "        if not tree or not a or not b:\n",
    "            raise ValueError\n",
    "        \n",
    "        path1 = self.path_finder_tail_rec(tree,a)\n",
    "        path2 = self.path_finder_tail_rec(tree,b)\n",
    "        \n",
    "        prev = None\n",
    "        while path1 and path2:\n",
    "            x = path1.pop(0)\n",
    "            y = path2.pop(0)\n",
    "            if x == y:\n",
    "                prev = x\n",
    "            else:\n",
    "                break\n",
    "        return prev\n",
    "                \n",
    "\n",
    "    def path_finder_rec(self, node, a, path):\n",
    "        if not node:\n",
    "            return None\n",
    "        if node.value == a.value:\n",
    "            path.append(node.value)\n",
    "            return path\n",
    "        \n",
    "        left = self.path_finder_rec(node.left,a,path+[node.value])\n",
    "        right = self.path_finder_rec(node.right,a,path+[node.value])\n",
    "        \n",
    "        return left or right\n",
    "    \n",
    "    def path_finder_tail_rec(self, node, a):\n",
    "        if not node:\n",
    "            return None\n",
    "        \n",
    "        if node.value == a.value:\n",
    "            return [node.value]\n",
    "        \n",
    "        left = self.path_finder_tail_rec(node.left,a)\n",
    "        right = self.path_finder_tail_rec(node.right,a)\n",
    "        \n",
    "        if left:\n",
    "            left.insert(0,node.value)\n",
    "            return left\n",
    "        if right:\n",
    "            right.insert(0,node.value)\n",
    "            return right\n",
    "        return None"
   ]
  },
  {
   "cell_type": "code",
   "execution_count": 141,
   "metadata": {},
   "outputs": [],
   "source": [
    "n7 = Node(7)\n",
    "n6 = Node(6)\n",
    "n5 = Node(5)\n",
    "n5 = Node(5)\n",
    "n4 = Node(4)\n",
    "n3 = Node(3)\n",
    "n2 = Node(2)\n",
    "n1 = Node(1)\n",
    "\n",
    "n1.left = n2\n",
    "n1.right = n3\n",
    "\n",
    "n2.left = n4\n",
    "n2.right = n5\n",
    "\n",
    "n3.left = n6\n",
    "n3.right = n7"
   ]
  },
  {
   "cell_type": "code",
   "execution_count": 142,
   "metadata": {},
   "outputs": [],
   "source": [
    "assert(LCA().compute(n1,n4,n3) == 1)\n",
    "assert(LCA().compute(n1,n6,n7) == 3)"
   ]
  },
  {
   "cell_type": "code",
   "execution_count": null,
   "metadata": {},
   "outputs": [],
   "source": []
  },
  {
   "cell_type": "code",
   "execution_count": null,
   "metadata": {
    "collapsed": true
   },
   "outputs": [],
   "source": []
  }
 ],
 "metadata": {
  "kernelspec": {
   "display_name": "Python 3",
   "language": "python",
   "name": "python3"
  },
  "language_info": {
   "codemirror_mode": {
    "name": "ipython",
    "version": 3
   },
   "file_extension": ".py",
   "mimetype": "text/x-python",
   "name": "python",
   "nbconvert_exporter": "python",
   "pygments_lexer": "ipython3",
   "version": "3.6.2"
  }
 },
 "nbformat": 4,
 "nbformat_minor": 2
}
