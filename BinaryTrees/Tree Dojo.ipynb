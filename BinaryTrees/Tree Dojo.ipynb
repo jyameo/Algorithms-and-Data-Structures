{
 "cells": [
  {
   "cell_type": "markdown",
   "metadata": {},
   "source": [
    "# Tree Traversal\n",
    "\n",
    "Question\n",
    "\n",
    "Given a binary search tree, print out the elements of the tree in order without using recursion."
   ]
  },
  {
   "cell_type": "code",
   "execution_count": 1,
   "metadata": {
    "collapsed": true
   },
   "outputs": [],
   "source": [
    "class Node:\n",
    "    def __init__(self,value):\n",
    "        self.value = value\n",
    "        self.left = None\n",
    "        self.right = None\n",
    "        \n",
    "class TreeTraversal:\n",
    "    def traverse_it(node):\n",
    "        if not node:\n",
    "            raise TypeError(\"Initialized with invalid node\")\n",
    "\n",
    "        stack = []\n",
    "\n",
    "        while node:\n",
    "            stack.append(node)\n",
    "            node = node.left\n",
    "        \n",
    "        while stack:\n",
    "            node = stack.pop()\n",
    "            print(node.value)\n",
    "            if node.right:\n",
    "                node = node.right\n",
    "                while node:\n",
    "                    stack.append(node)\n",
    "                    node = node.left"
   ]
  },
  {
   "cell_type": "code",
   "execution_count": 2,
   "metadata": {
    "collapsed": true
   },
   "outputs": [],
   "source": [
    "n8 = Node(8)\n",
    "n7 = Node(7)\n",
    "n6 = Node(6)\n",
    "n5 = Node(5)\n",
    "n3 = Node(3)\n",
    "n2 = Node(2)\n",
    "n1 = Node(1)\n",
    "n5.left = n2\n",
    "n5.right = n7\n",
    "n2.left = n1\n",
    "n2.right = n3\n",
    "n7.left = n6\n",
    "n7.right = n8"
   ]
  },
  {
   "cell_type": "code",
   "execution_count": 3,
   "metadata": {},
   "outputs": [
    {
     "name": "stdout",
     "output_type": "stream",
     "text": [
      "1\n",
      "2\n",
      "3\n",
      "5\n",
      "6\n",
      "7\n",
      "8\n"
     ]
    }
   ],
   "source": [
    "TreeTraversal.traverse_it(n5)"
   ]
  },
  {
   "cell_type": "code",
   "execution_count": null,
   "metadata": {
    "collapsed": true
   },
   "outputs": [],
   "source": []
  },
  {
   "cell_type": "code",
   "execution_count": null,
   "metadata": {
    "collapsed": true
   },
   "outputs": [],
   "source": []
  },
  {
   "cell_type": "markdown",
   "metadata": {},
   "source": [
    "# Trie Tree\n",
    "Question\n",
    "\n",
    "Write an autocomplete class that returns all dictionary words with a given prefix.\n",
    "\n",
    "eg.\n",
    "\n",
    "\n",
    "dict:   {\"abc\", \"acd\", \"bcd\", \"def\", \"a\", \"aba\"}\n",
    "\n",
    "prefix: \"a\" -> \"abc\", \"acd\", \"a\", \"aba\"\n",
    "prefix: \"b\" -> \"bcd\""
   ]
  },
  {
   "cell_type": "code",
   "execution_count": 33,
   "metadata": {
    "collapsed": true
   },
   "outputs": [],
   "source": [
    "class TrieNode:\n",
    "    def __init__(self,label=None,data=None):\n",
    "        self.label = label\n",
    "        self.data = data\n",
    "        self.children = {}\n",
    "        \n",
    "class TrieTree:\n",
    "    def __init__(self):\n",
    "        self.root = TrieNode()\n",
    "        \n",
    "    def add(self, word):\n",
    "        if not word:\n",
    "            return \n",
    "        \n",
    "        current = self.root\n",
    "        for i in range(len(word)):\n",
    "            if word[i] in current.children:\n",
    "                current = current.children[word[i]]\n",
    "            else:\n",
    "                break\n",
    "                \n",
    "        while i < len(word):\n",
    "            current.children[word[i]] = TrieNode(word[i])\n",
    "            current = current.children[word[i]]\n",
    "            i += 1\n",
    "        \n",
    "        current.data = word\n",
    "        \n",
    "    \n",
    "    def has_prefix(self, prefix):\n",
    "        if not self.root:\n",
    "            return []\n",
    "        \n",
    "        current = self.root\n",
    "        for i in range(len(prefix)):\n",
    "            if prefix[i] in current.children:\n",
    "                current = current.children[prefix[i]]\n",
    "            else:\n",
    "                return []\n",
    "            \n",
    "        q = []\n",
    "        if current == self.root:\n",
    "            q = [node for node in current.children.values()]\n",
    "        else:\n",
    "            q = [current]\n",
    "            \n",
    "        words = []\n",
    "        while q:\n",
    "            node = q.pop(0)\n",
    "            if node.data != None:\n",
    "                words.append(node.data)\n",
    "            \n",
    "            for child in node.children.values():\n",
    "                q.append(child)\n",
    "        return words"
   ]
  },
  {
   "cell_type": "code",
   "execution_count": 34,
   "metadata": {
    "collapsed": true
   },
   "outputs": [],
   "source": [
    "words = [\"abc\", \"acd\", \"bcd\", \"def\", \"a\", \"aba\"]\n",
    "t = TrieTree()\n",
    "for word in words:\n",
    "    t.add(word)"
   ]
  },
  {
   "cell_type": "code",
   "execution_count": 35,
   "metadata": {},
   "outputs": [
    {
     "data": {
      "text/plain": [
       "['a', 'abc', 'aba', 'acd']"
      ]
     },
     "execution_count": 35,
     "metadata": {},
     "output_type": "execute_result"
    }
   ],
   "source": [
    "t.has_prefix('a')"
   ]
  },
  {
   "cell_type": "markdown",
   "metadata": {
    "collapsed": true
   },
   "source": []
  },
  {
   "cell_type": "code",
   "execution_count": null,
   "metadata": {
    "collapsed": true
   },
   "outputs": [],
   "source": []
  },
  {
   "cell_type": "markdown",
   "metadata": {},
   "source": [
    "# Lowest Common Ancestor\n",
    "\n",
    "Question\n",
    "\n",
    "Given two nodes in a binary tree, write a function to find the lowest common ancestor."
   ]
  },
  {
   "cell_type": "code",
   "execution_count": 2,
   "metadata": {
    "collapsed": true
   },
   "outputs": [],
   "source": [
    "class Node:\n",
    "    def __init__(self, value):\n",
    "        self.value = value\n",
    "        self.left = None\n",
    "        self.right = None"
   ]
  },
  {
   "cell_type": "code",
   "execution_count": 140,
   "metadata": {
    "collapsed": true
   },
   "outputs": [],
   "source": [
    "class LCA:\n",
    "    def compute(self,tree,a,b):\n",
    "        if not tree or not a or not b:\n",
    "            raise ValueError\n",
    "        \n",
    "        path1 = self.path_finder_tail_rec(tree,a)\n",
    "        path2 = self.path_finder_tail_rec(tree,b)\n",
    "        \n",
    "        prev = None\n",
    "        while path1 and path2:\n",
    "            x = path1.pop(0)\n",
    "            y = path2.pop(0)\n",
    "            if x == y:\n",
    "                prev = x\n",
    "            else:\n",
    "                break\n",
    "        return prev\n",
    "                \n",
    "\n",
    "    def path_finder_rec(self, node, a, path):\n",
    "        if not node:\n",
    "            return None\n",
    "        if node.value == a.value:\n",
    "            path.append(node.value)\n",
    "            return path\n",
    "        \n",
    "        left = self.path_finder_rec(node.left,a,path+[node.value])\n",
    "        right = self.path_finder_rec(node.right,a,path+[node.value])\n",
    "        \n",
    "        return left or right\n",
    "    \n",
    "    def path_finder_tail_rec(self, node, a):\n",
    "        if not node:\n",
    "            return None\n",
    "        \n",
    "        if node.value == a.value:\n",
    "            return [node.value]\n",
    "        \n",
    "        left = self.path_finder_tail_rec(node.left,a)\n",
    "        right = self.path_finder_tail_rec(node.right,a)\n",
    "        \n",
    "        if left:\n",
    "            left.insert(0,node.value)\n",
    "            return left\n",
    "        if right:\n",
    "            right.insert(0,node.value)\n",
    "            return right\n",
    "        return None"
   ]
  },
  {
   "cell_type": "code",
   "execution_count": 141,
   "metadata": {
    "collapsed": true
   },
   "outputs": [],
   "source": [
    "n7 = Node(7)\n",
    "n6 = Node(6)\n",
    "n5 = Node(5)\n",
    "n5 = Node(5)\n",
    "n4 = Node(4)\n",
    "n3 = Node(3)\n",
    "n2 = Node(2)\n",
    "n1 = Node(1)\n",
    "\n",
    "n1.left = n2\n",
    "n1.right = n3\n",
    "\n",
    "n2.left = n4\n",
    "n2.right = n5\n",
    "\n",
    "n3.left = n6\n",
    "n3.right = n7"
   ]
  },
  {
   "cell_type": "code",
   "execution_count": 142,
   "metadata": {
    "collapsed": true
   },
   "outputs": [],
   "source": [
    "assert(LCA().compute(n1,n4,n3) == 1)\n",
    "assert(LCA().compute(n1,n6,n7) == 3)"
   ]
  },
  {
   "cell_type": "code",
   "execution_count": null,
   "metadata": {
    "collapsed": true
   },
   "outputs": [],
   "source": []
  },
  {
   "cell_type": "markdown",
   "metadata": {
    "collapsed": true
   },
   "source": [
    "# Tree to Doubly Linked List\n",
    "\n",
    "Question\n",
    "\n",
    "Given a tree, write a function to convert it into a circular doubly linked list from left to right by only modifying the existing pointers."
   ]
  },
  {
   "cell_type": "code",
   "execution_count": 22,
   "metadata": {
    "collapsed": true
   },
   "outputs": [],
   "source": [
    "class Tree2DDL:\n",
    "    def convert(self,node):\n",
    "        if not node: return None\n",
    "        left = self.convert(node.left)\n",
    "        right = self.convert(node.right)\n",
    "        \n",
    "        node.left = node\n",
    "        node.right = node\n",
    "        \n",
    "        node = self.concatenate(left,node)\n",
    "        node = self.concatenate(node,right)\n",
    "        return node\n",
    "    \n",
    "    \n",
    "    def concatenate(self,a,b):\n",
    "        if not a: return b\n",
    "        if not b: return a\n",
    "        \n",
    "        aEnd = a.left\n",
    "        bEnd = b.left\n",
    "        \n",
    "        a.left = bEnd\n",
    "        b.left = aEnd\n",
    "        bEnd.right = a\n",
    "        aEnd.right = b\n",
    "        \n",
    "        return a"
   ]
  },
  {
   "cell_type": "code",
   "execution_count": 23,
   "metadata": {
    "collapsed": true
   },
   "outputs": [],
   "source": [
    "n7 = Node(7)\n",
    "n6 = Node(6)\n",
    "n5 = Node(5)\n",
    "n5 = Node(5)\n",
    "n4 = Node(4)\n",
    "n3 = Node(3)\n",
    "n2 = Node(2)\n",
    "n1 = Node(1)\n",
    "\n",
    "n1.left = n2\n",
    "n1.right = n3\n",
    "\n",
    "n2.left = n4\n",
    "n2.right = n5\n",
    "\n",
    "n3.left = n6\n",
    "n3.right = n7"
   ]
  },
  {
   "cell_type": "code",
   "execution_count": 24,
   "metadata": {},
   "outputs": [
    {
     "name": "stdout",
     "output_type": "stream",
     "text": [
      "4< - >2< - >5< - >1< - >6< - >3< - >7< - >"
     ]
    }
   ],
   "source": [
    "dd = Tree2DDL().convert(n1)\n",
    "\n",
    "for i in range(7):\n",
    "    print(dd.value, end='< - >')\n",
    "    dd = dd.right"
   ]
  },
  {
   "cell_type": "markdown",
   "metadata": {},
   "source": [
    "# Longest Consecutive Branch\n",
    "\n",
    "Question\n",
    "\n",
    "Given a tree, write a function to find the length of the longest branch of nodes in increasing consecutive order."
   ]
  },
  {
   "cell_type": "code",
   "execution_count": 73,
   "metadata": {
    "collapsed": true
   },
   "outputs": [],
   "source": [
    "def longest_consecutive_branch(node,longest=1,prev=None):\n",
    "    if not node:\n",
    "        return longest\n",
    "    if prev and node.value == prev.value + 1:\n",
    "        left = longest_consecutive_branch(node.left,longest+1,node)\n",
    "        right = longest_consecutive_branch(node.right,longest+1,node)\n",
    "        return max(left,right)\n",
    "    else:\n",
    "        left = longest_consecutive_branch(node.left,1,node)\n",
    "        right = longest_consecutive_branch(node.right,1,node)\n",
    "        return max(left,right)"
   ]
  },
  {
   "cell_type": "code",
   "execution_count": 85,
   "metadata": {
    "collapsed": true
   },
   "outputs": [],
   "source": [
    "n0 = Node(0)\n",
    "n2_1 = Node(2)\n",
    "n1_1 = Node(1)\n",
    "n1_2 = Node(1)\n",
    "n3 = Node(3)\n",
    "n2_2 = Node(2)\n",
    "n1_3 = Node(1)\n",
    "\n",
    "n0.left = n1_1\n",
    "n0.right = n2_1\n",
    "\n",
    "n1_1.left = n1_2\n",
    "n1_1.right = n2_2\n",
    "\n",
    "n2_1.left = n1_3\n",
    "n2_1.right = n3"
   ]
  },
  {
   "cell_type": "code",
   "execution_count": null,
   "metadata": {},
   "outputs": [],
   "source": []
  },
  {
   "cell_type": "code",
   "execution_count": 87,
   "metadata": {},
   "outputs": [],
   "source": [
    "t0 = Node(0)\n",
    "t2_1 = Node(2)\n",
    "t1_1 = Node(1)\n",
    "t1_2 = Node(1)\n",
    "t3 = Node(3)\n",
    "t2_2 = Node(2)\n",
    "t1_3 = Node(1)\n",
    "\n",
    "t0.left = t1_1\n",
    "t0.right = t2_1\n",
    "\n",
    "t1_1.left = t1_2\n",
    "t1_1.right = t2_2\n",
    "\n",
    "t2_1.left = t1_3\n",
    "t2_1.right = t3\n",
    "t4 = Node(4)\n",
    "t5 = Node(5)\n",
    "t6 = Node(6)\n",
    "\n",
    "t3.left = t4\n",
    "t4.right = t5\n",
    "t5.left = t6"
   ]
  },
  {
   "cell_type": "code",
   "execution_count": 88,
   "metadata": {},
   "outputs": [],
   "source": [
    "assert((longest_consecutive_branch(t0)) == 5)\n",
    "assert(longest_consecutive_branch(n0) == 3)"
   ]
  },
  {
   "cell_type": "code",
   "execution_count": 41,
   "metadata": {
    "collapsed": true
   },
   "outputs": [],
   "source": [
    "def printTree(node):\n",
    "    if node:\n",
    "        print(node.value)\n",
    "        printTree(node.left)\n",
    "        printTree(node.right)"
   ]
  },
  {
   "cell_type": "code",
   "execution_count": null,
   "metadata": {},
   "outputs": [],
   "source": []
  },
  {
   "cell_type": "markdown",
   "metadata": {},
   "source": [
    "# BalancedTree\n",
    "\n",
    "Question\n",
    "\n",
    "Given a binary tree, write a function to determine whether the tree is balanced."
   ]
  },
  {
   "cell_type": "code",
   "execution_count": 100,
   "metadata": {
    "collapsed": true
   },
   "outputs": [],
   "source": [
    "def height(node):\n",
    "    if not node:\n",
    "        return 0\n",
    "    return max(height(node.left),height(node.right)) + 1\n",
    "\n",
    "def is_balanced(node):\n",
    "    if not node:\n",
    "        return True\n",
    "    diff = abs(height(node.left) - height(node.right))\n",
    "    if  diff == 0 or diff == 1:\n",
    "        return is_balanced(node.left) and is_balanced(node.right)\n",
    "    return False\n",
    "\n",
    "def is_balanced_2(node):\n",
    "    if not node:\n",
    "        return True\n",
    "    b = is_balanced_height(node)\n",
    "    return True if b > -1 else False\n",
    "\n",
    "def is_balanced_height(node):\n",
    "    if not node:\n",
    "        return 0\n",
    "    h1 = height(node.left)\n",
    "    h2 = height(node.right)\n",
    "    diff = abs(h1 - h2)\n",
    "    if  diff > 1:\n",
    "        return -1\n",
    "    else:\n",
    "        return max(h1,h2) + 1"
   ]
  },
  {
   "cell_type": "code",
   "execution_count": 101,
   "metadata": {},
   "outputs": [],
   "source": [
    "assert(is_balanced(n0) == True)\n",
    "assert(is_balanced(t0) == False)"
   ]
  },
  {
   "cell_type": "code",
   "execution_count": 102,
   "metadata": {},
   "outputs": [],
   "source": [
    "assert(is_balanced_2(n0) == True)\n",
    "assert(is_balanced_2(t0) == False)"
   ]
  },
  {
   "cell_type": "code",
   "execution_count": null,
   "metadata": {
    "collapsed": true
   },
   "outputs": [],
   "source": []
  },
  {
   "cell_type": "markdown",
   "metadata": {},
   "source": [
    "# LevelOrderTraversal\n",
    "\n",
    "Question\n",
    "\n",
    "Given a tree, write a function that prints out the nodes of the tree in level order."
   ]
  },
  {
   "cell_type": "code",
   "execution_count": 103,
   "metadata": {
    "collapsed": true
   },
   "outputs": [],
   "source": [
    "def level_traverse(node):\n",
    "    if not node:\n",
    "        return\n",
    "    q = [node]\n",
    "    \n",
    "    while q:\n",
    "        cur = q.pop(0)\n",
    "        print(cur.value)\n",
    "        if cur.left:\n",
    "            q.append(cur.left)\n",
    "        if cur.right:\n",
    "            q.append(cur.right)    "
   ]
  },
  {
   "cell_type": "code",
   "execution_count": 104,
   "metadata": {
    "collapsed": true
   },
   "outputs": [],
   "source": [
    "l7 = Node(7)\n",
    "l6 = Node(6)\n",
    "l5 = Node(5)\n",
    "l5 = Node(5)\n",
    "l4 = Node(4)\n",
    "l3 = Node(3)\n",
    "l2 = Node(2)\n",
    "l1 = Node(1)\n",
    "\n",
    "l1.left = l2\n",
    "l1.right = l3\n",
    "\n",
    "l2.left = l4\n",
    "l2.right = l5\n",
    "\n",
    "l3.left = l6\n",
    "l3.right = l7"
   ]
  },
  {
   "cell_type": "code",
   "execution_count": 107,
   "metadata": {},
   "outputs": [
    {
     "name": "stdout",
     "output_type": "stream",
     "text": [
      "1\n",
      "2\n",
      "3\n",
      "4\n",
      "5\n",
      "6\n",
      "7\n"
     ]
    }
   ],
   "source": [
    "level_traverse(l1)"
   ]
  },
  {
   "cell_type": "markdown",
   "metadata": {},
   "source": [
    "# Binary Search Tree Validation\n",
    "\n",
    "Question\n",
    "\n",
    "Given a binary tree, write a function to test if the tree is a binary search tree."
   ]
  },
  {
   "cell_type": "code",
   "execution_count": 146,
   "metadata": {},
   "outputs": [],
   "source": [
    "from sys import maxsize as _max\n",
    "\n",
    "def validate_bst(node):\n",
    "    if not node:\n",
    "        return True\n",
    "    return validate(node,_max,-_max)\n",
    "\n",
    "def validate(node,upper,lower):\n",
    "    if not node:\n",
    "        return True\n",
    "    if node.value < upper and node.value > lower:\n",
    "        return validate(node.left,node.value,lower) and validate(node.right,upper,node.value)\n",
    "    return False"
   ]
  },
  {
   "cell_type": "code",
   "execution_count": 147,
   "metadata": {
    "collapsed": true
   },
   "outputs": [],
   "source": [
    "v7 = Node(7)\n",
    "v6 = Node(6)\n",
    "v5 = Node(5)\n",
    "v5 = Node(5)\n",
    "v8 = Node(8)\n",
    "v3 = Node(3)\n",
    "v2 = Node(2)\n",
    "v1 = Node(1)\n",
    "\n",
    "v5.left = v2\n",
    "v5.right = v7\n",
    "\n",
    "v2.left = v1\n",
    "v2.right = v3\n",
    "\n",
    "v7.left = v6\n",
    "v7.right = v8"
   ]
  },
  {
   "cell_type": "code",
   "execution_count": null,
   "metadata": {},
   "outputs": [],
   "source": []
  },
  {
   "cell_type": "code",
   "execution_count": 148,
   "metadata": {
    "collapsed": true
   },
   "outputs": [],
   "source": [
    "v_7 = Node(7)\n",
    "v_6 = Node(6)\n",
    "v_5 = Node(5)\n",
    "v_5 = Node(5)\n",
    "v_4 = Node(4)\n",
    "v_3 = Node(3)\n",
    "v_2 = Node(2)\n",
    "v_1 = Node(1)\n",
    "\n",
    "v_5.left = v_2\n",
    "v_5.right = v_7\n",
    "\n",
    "v_2.left = v_1\n",
    "v_2.right = v_3\n",
    "\n",
    "v_7.left = v_6\n",
    "v_7.right = v_4"
   ]
  },
  {
   "cell_type": "code",
   "execution_count": 150,
   "metadata": {},
   "outputs": [],
   "source": [
    "assert(validate_bst(v5) == True)\n",
    "assert(validate_bst(v_5) == False)"
   ]
  },
  {
   "cell_type": "code",
   "execution_count": null,
   "metadata": {
    "collapsed": true
   },
   "outputs": [],
   "source": []
  }
 ],
 "metadata": {
  "kernelspec": {
   "display_name": "Python 3",
   "language": "python",
   "name": "python3"
  },
  "language_info": {
   "codemirror_mode": {
    "name": "ipython",
    "version": 3
   },
   "file_extension": ".py",
   "mimetype": "text/x-python",
   "name": "python",
   "nbconvert_exporter": "python",
   "pygments_lexer": "ipython3",
   "version": "3.6.2"
  }
 },
 "nbformat": 4,
 "nbformat_minor": 2
}
