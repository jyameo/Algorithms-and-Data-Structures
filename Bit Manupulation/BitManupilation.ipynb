{
 "cells": [
  {
   "cell_type": "markdown",
   "metadata": {},
   "source": [
    "# Sum\n",
    "Question\n",
    "\n",
    "Given two integers, write a function to sum the numbers without using any arithmetic operators."
   ]
  },
  {
   "cell_type": "code",
   "execution_count": 1,
   "metadata": {
    "collapsed": true
   },
   "outputs": [],
   "source": [
    "def bitSum(a,b):\n",
    "    if b == 0:\n",
    "        return a\n",
    "    partialSum = a ^ b\n",
    "    carry = (a & b) << 1\n",
    "    return bitSum(partialSum, carry)"
   ]
  },
  {
   "cell_type": "code",
   "execution_count": 10,
   "metadata": {},
   "outputs": [
    {
     "data": {
      "text/plain": [
       "1451"
      ]
     },
     "execution_count": 10,
     "metadata": {},
     "output_type": "execute_result"
    }
   ],
   "source": [
    "bitSum(1340,111)"
   ]
  },
  {
   "cell_type": "markdown",
   "metadata": {},
   "source": [
    "# Mod\n",
    "\n",
    "Question\n",
    "\n",
    "Given a list of bytes a, each representing one byte of a larger integer (ie. {0x12, 0x34, 0x56, 0x78} represents the integer 0x12345678), and an integer b, find a % b."
   ]
  },
  {
   "cell_type": "code",
   "execution_count": 24,
   "metadata": {
    "collapsed": true
   },
   "outputs": [],
   "source": [
    "def bitMod(a,b):\n",
    "    if b <= 1:\n",
    "        return 0\n",
    "    numStream = 0 \n",
    "    for num in a:\n",
    "        numStream <<= 8\n",
    "        numStream += num\n",
    "        numStream %= b\n",
    "    return numStream"
   ]
  },
  {
   "cell_type": "code",
   "execution_count": 40,
   "metadata": {
    "collapsed": true
   },
   "outputs": [],
   "source": [
    "elements = [124]\n",
    "values = bytearray(elements)"
   ]
  },
  {
   "cell_type": "code",
   "execution_count": 41,
   "metadata": {},
   "outputs": [
    {
     "data": {
      "text/plain": [
       "4"
      ]
     },
     "execution_count": 41,
     "metadata": {},
     "output_type": "execute_result"
    }
   ],
   "source": [
    "bitMod(values,10)"
   ]
  },
  {
   "cell_type": "markdown",
   "metadata": {},
   "source": [
    "# Swap\n",
    "\n",
    "Question\n",
    "\n",
    "Given two integers, write a function that swaps them without using any temporary variables."
   ]
  },
  {
   "cell_type": "code",
   "execution_count": 2,
   "metadata": {
    "collapsed": true
   },
   "outputs": [],
   "source": [
    "def swap(a,b):\n",
    "    a = a ^ b\n",
    "    b = a ^ b\n",
    "    a = a ^ b"
   ]
  },
  {
   "cell_type": "markdown",
   "metadata": {},
   "source": [
    "# Two missing numbers\n",
    "Question\n",
    "\n",
    "Given an array containing all the numbers from 1 to n except two, find the two missing numbers.\n",
    "\n",
    ">[1,2,3,5] n=5\n",
    "=> 4\n",
    "\n",
    "s = sum(1..n)\n",
    "t = sum(nums)\n",
    "=> s-t\n",
    "\n",
    "x ^ x = 0\n",
    "x ^ y ^ x = y"
   ]
  },
  {
   "cell_type": "code",
   "execution_count": 59,
   "metadata": {},
   "outputs": [],
   "source": [
    "from functools import reduce\n",
    "def missing_numb(nums,n):\n",
    "    if n == 0:\n",
    "        return -1\n",
    "    totalXor = reduce(lambda a,b: a + b, range(1,n+1))\n",
    "    arrXor = reduce(lambda a,b: a + b, nums)\n",
    "\n",
    "    return totalXor - arrXor   "
   ]
  },
  {
   "cell_type": "code",
   "execution_count": 60,
   "metadata": {},
   "outputs": [
    {
     "data": {
      "text/plain": [
       "1"
      ]
     },
     "execution_count": 60,
     "metadata": {},
     "output_type": "execute_result"
    }
   ],
   "source": [
    "missing_numb([4,2,3],4)"
   ]
  },
  {
   "cell_type": "code",
   "execution_count": 73,
   "metadata": {},
   "outputs": [],
   "source": [
    "def missing_two_numb(nums):\n",
    "    if not nums or len(nums) == 0:\n",
    "        return 0\n",
    "    size = len(nums) + 2\n",
    "    pivot = missing_numb(nums,size)//2\n",
    "    \n",
    "    totalLeft = 0\n",
    "    totalRight = 0\n",
    "    arrLeft = 0\n",
    "    arrRight = 0\n",
    "    \n",
    "    for i in range(1,size+1):\n",
    "        if i <= pivot:\n",
    "            totalLeft += i\n",
    "        else:\n",
    "            totalRight += i\n",
    "    for i in nums:\n",
    "        if i <= pivot:\n",
    "            arrLeft += i\n",
    "        else:\n",
    "            arrRight += i\n",
    "    return totalLeft-arrLeft,totalRight-arrRight "
   ]
  },
  {
   "cell_type": "code",
   "execution_count": 74,
   "metadata": {},
   "outputs": [
    {
     "data": {
      "text/plain": [
       "(1, 5)"
      ]
     },
     "execution_count": 74,
     "metadata": {},
     "output_type": "execute_result"
    }
   ],
   "source": [
    "missing_two_numb([4, 2, 3])"
   ]
  },
  {
   "cell_type": "markdown",
   "metadata": {},
   "source": [
    "# Grey Code\n",
    "\n",
    "Question\n",
    "\n",
    "Given two integers, write a function to determine whether or not their binary representations differ by a single bit.\n",
    "\n",
    "eg.\n",
    "\n",
    "gray(0, 1) = true\n",
    "gray(1, 2) = false"
   ]
  },
  {
   "cell_type": "code",
   "execution_count": 75,
   "metadata": {
    "collapsed": true
   },
   "outputs": [],
   "source": [
    "def is_grey(a,b):\n",
    "    x = a ^ b\n",
    "    return (x & (x-1) == 0)"
   ]
  },
  {
   "cell_type": "code",
   "execution_count": 76,
   "metadata": {},
   "outputs": [
    {
     "data": {
      "text/plain": [
       "True"
      ]
     },
     "execution_count": 76,
     "metadata": {},
     "output_type": "execute_result"
    }
   ],
   "source": [
    "is_grey(0,1)"
   ]
  },
  {
   "cell_type": "code",
   "execution_count": 77,
   "metadata": {},
   "outputs": [
    {
     "data": {
      "text/plain": [
       "False"
      ]
     },
     "execution_count": 77,
     "metadata": {},
     "output_type": "execute_result"
    }
   ],
   "source": [
    "is_grey(1,2)"
   ]
  },
  {
   "cell_type": "markdown",
   "metadata": {},
   "source": [
    "# Rotate Bits\n",
    "\n",
    "Question\n",
    "\n",
    "Given a number, write a function to rotate the bits (ie circular shift).\n",
    "\n",
    "eg.\n",
    "rotate(0xFFFF0000, 8) = 0x00FFFF00\n",
    "\n",
    "rotate(0x13579BDF, 12) = 0xBDF13579\n",
    "\n",
    "rotate(0b10110011100011110000111110000000, 17) = 0b00011111000000010110011100011110"
   ]
  },
  {
   "cell_type": "code",
   "execution_count": 103,
   "metadata": {
    "collapsed": true
   },
   "outputs": [],
   "source": [
    "def rotate(bits, shift):\n",
    "    return bin(bits >> shift | bits << (32 - shift))"
   ]
  },
  {
   "cell_type": "code",
   "execution_count": null,
   "metadata": {},
   "outputs": [],
   "source": []
  },
  {
   "cell_type": "markdown",
   "metadata": {},
   "source": [
    "# Ones\n",
    "\n",
    "Question\n",
    "\n",
    "Given an integer, write a function to compute the number of ones in the binary representation of the number.\n",
    "\n",
    "eg.\n",
    "\n",
    "\n",
    "ones(0) = 0\n",
    "ones(1) = 1\n",
    "ones(2) = 1\n",
    "ones(3) = 2\n",
    "ones(7) = 3"
   ]
  },
  {
   "cell_type": "code",
   "execution_count": 117,
   "metadata": {
    "collapsed": true
   },
   "outputs": [],
   "source": [
    "def ones(x):\n",
    "    count = 0\n",
    "    while x > 0:\n",
    "        count  += x & 1\n",
    "        x >>= 1\n",
    "    return count"
   ]
  },
  {
   "cell_type": "code",
   "execution_count": 120,
   "metadata": {},
   "outputs": [
    {
     "data": {
      "text/plain": [
       "3"
      ]
     },
     "execution_count": 120,
     "metadata": {},
     "output_type": "execute_result"
    }
   ],
   "source": [
    "ones(7)"
   ]
  },
  {
   "cell_type": "code",
   "execution_count": 121,
   "metadata": {},
   "outputs": [
    {
     "data": {
      "text/plain": [
       "False"
      ]
     },
     "execution_count": 121,
     "metadata": {},
     "output_type": "execute_result"
    }
   ],
   "source": []
  },
  {
   "cell_type": "code",
   "execution_count": null,
   "metadata": {
    "collapsed": true
   },
   "outputs": [],
   "source": []
  }
 ],
 "metadata": {
  "kernelspec": {
   "display_name": "Python 3",
   "language": "python",
   "name": "python3"
  },
  "language_info": {
   "codemirror_mode": {
    "name": "ipython",
    "version": 3
   },
   "file_extension": ".py",
   "mimetype": "text/x-python",
   "name": "python",
   "nbconvert_exporter": "python",
   "pygments_lexer": "ipython3",
   "version": "3.6.2"
  }
 },
 "nbformat": 4,
 "nbformat_minor": 2
}
