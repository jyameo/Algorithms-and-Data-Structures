{
 "cells": [
  {
   "cell_type": "markdown",
   "metadata": {},
   "source": [
    "# Build Order\n",
    "\n",
    "Question\n",
    "\n",
    "Given a list of packages that need to be built and the dependencies for each package, determine a valid order in which to build the packages.\n",
    "\n",
    "eg.\n",
    "\n",
    "0:\n",
    "1: 0\n",
    "2: 0\n",
    "3: 1, 2\n",
    "4: 3\n",
    "\n",
    "output: 0, 1, 2, 3, 4"
   ]
  },
  {
   "cell_type": "code",
   "execution_count": 27,
   "metadata": {
    "collapsed": true
   },
   "outputs": [],
   "source": [
    "def build_order(packages):\n",
    "    if not packages or len(packages) == 0:\n",
    "        return []\n",
    "    tmp_visited = set()\n",
    "    perm_visited = set()\n",
    "    result = []\n",
    "    n = len(packages)\n",
    "    for i in range(n):\n",
    "        if i not in perm_visited:\n",
    "            visit(i,packages,tmp_visited,perm_visited,result)\n",
    "    return result\n",
    "\n",
    "def visit(cur_package,packages,tmp_visited,perm_visited,result):\n",
    "    if cur_package in tmp_visited:\n",
    "        raise RuntimeError(\"cycle detected!\")\n",
    "        \n",
    "    if cur_package not in perm_visited:\n",
    "        tmp_visited.add(cur_package)\n",
    "        for i in packages[cur_package]:\n",
    "            visit(i,packages,tmp_visited,perm_visited,result)\n",
    "        \n",
    "        tmp_visited.remove(cur_package)\n",
    "        perm_visited.add(cur_package)\n",
    "        result.append(cur_package)"
   ]
  },
  {
   "cell_type": "code",
   "execution_count": 28,
   "metadata": {},
   "outputs": [
    {
     "data": {
      "text/plain": [
       "[0, 1, 2, 3, 4]"
      ]
     },
     "execution_count": 28,
     "metadata": {},
     "output_type": "execute_result"
    }
   ],
   "source": [
    "processes = [[],[0],[0],[1,2],[3]]\n",
    "build_order(processes)"
   ]
  },
  {
   "cell_type": "markdown",
   "metadata": {},
   "source": []
  },
  {
   "cell_type": "code",
   "execution_count": null,
   "metadata": {
    "collapsed": true
   },
   "outputs": [],
   "source": []
  },
  {
   "cell_type": "markdown",
   "metadata": {},
   "source": [
    "# Consecutive Array\n",
    "\n",
    "Question\n",
    "\n",
    "Given an unsorted array, find the length of the longest sequence of consecutive numbers in the array.\n",
    "\n",
    "eg.\n",
    "\n",
    "consecutive([4, 2, 1, 6, 5]) = 3, [4, 5, 6]\n",
    "consecutive([5, 5, 3, 1]) = 1, [1], [3], or [5]"
   ]
  },
  {
   "cell_type": "code",
   "execution_count": 47,
   "metadata": {},
   "outputs": [],
   "source": [
    "def consec_array(array):\n",
    "    if not array or len(array) <= 1:\n",
    "        return array\n",
    "    \n",
    "    dedup = set(array)\n",
    "    res = []\n",
    "    for i in dedup:\n",
    "        if i-1 in dedup:\n",
    "            continue\n",
    "        cur_res = []\n",
    "        while i in dedup:\n",
    "            cur_res.append(i)\n",
    "            i+=1\n",
    "        res.append(cur_res)\n",
    "        \n",
    "    return res"
   ]
  },
  {
   "cell_type": "code",
   "execution_count": 48,
   "metadata": {},
   "outputs": [
    {
     "data": {
      "text/plain": [
       "[[1, 2], [4, 5, 6]]"
      ]
     },
     "execution_count": 48,
     "metadata": {},
     "output_type": "execute_result"
    }
   ],
   "source": [
    "consec_array([4,2,1,6,5])"
   ]
  },
  {
   "cell_type": "code",
   "execution_count": null,
   "metadata": {
    "collapsed": true
   },
   "outputs": [],
   "source": []
  },
  {
   "cell_type": "code",
   "execution_count": null,
   "metadata": {
    "collapsed": true
   },
   "outputs": [],
   "source": []
  },
  {
   "cell_type": "markdown",
   "metadata": {},
   "source": [
    "# Merge K Arrays\n",
    "\n",
    "Question\n",
    "\n",
    "Given k sorted arrays, merge them into a single sorted array.\n",
    "\n",
    "eg.\n",
    "\n",
    "merge({{1, 4, 7},{2, 5, 8},{3, 6, 9}}) = {1, 2, 3, 4, 5, 6, 7, 8, 9}"
   ]
  },
  {
   "cell_type": "code",
   "execution_count": 49,
   "metadata": {
    "collapsed": true
   },
   "outputs": [],
   "source": [
    "def merge_arrays(arrays):\n",
    "    if not arrays or len(arrays) == 0:\n",
    "        return None\n",
    "    \n",
    "    if len(arrays) == 1:\n",
    "        return arrays[0]\n",
    "    \n",
    "    if len(arrays) == 2:\n",
    "        return merge(arrays[0],arrays[1])\n",
    "    \n",
    "    mid = len(arrays) // 2\n",
    "    return merge_arrays([merge_arrays(arrays[:mid]),merge_arrays(arrays[mid:])])"
   ]
  },
  {
   "cell_type": "code",
   "execution_count": 71,
   "metadata": {
    "collapsed": true
   },
   "outputs": [],
   "source": [
    "def merge(arr1,arr2):\n",
    "    n = len(arr1) + len(arr2)\n",
    "    res = [0 for _ in range(n)]\n",
    "    \n",
    "    i = j = k = 0\n",
    "    \n",
    "    while i < len(arr1) and j < len(arr2):\n",
    "        if arr1[i] < arr2[j]:\n",
    "            res[k] = arr1[i]\n",
    "            i += 1\n",
    "        else:\n",
    "            res[k] = arr2[j]\n",
    "            j+=1\n",
    "        k+=1\n",
    "    \n",
    "    while i < len(arr1):\n",
    "        res[k] = arr1[i]\n",
    "        i += 1\n",
    "        k += 1\n",
    "        \n",
    "    while j < len(arr2):\n",
    "        res[k] = arr2[j]\n",
    "        j += 1\n",
    "        k += 1\n",
    "    \n",
    "    return res"
   ]
  },
  {
   "cell_type": "code",
   "execution_count": 72,
   "metadata": {},
   "outputs": [
    {
     "data": {
      "text/plain": [
       "[1, 2, 3, 5, 6, 8, 9, 10]"
      ]
     },
     "execution_count": 72,
     "metadata": {},
     "output_type": "execute_result"
    }
   ],
   "source": [
    "merge_arrays([[1],[2,5,8,10],[3,6,9]])"
   ]
  },
  {
   "cell_type": "code",
   "execution_count": null,
   "metadata": {
    "collapsed": true
   },
   "outputs": [],
   "source": []
  },
  {
   "cell_type": "code",
   "execution_count": 87,
   "metadata": {
    "collapsed": true
   },
   "outputs": [],
   "source": [
    "class QueueNode:\n",
    "    def __init__(self,array_index,index,value):\n",
    "        self.array_index = array_index\n",
    "        self.index = index\n",
    "        self.value = value\n",
    "    \n",
    "    def __lt__(self, other):\n",
    "        return self.value < other.value"
   ]
  },
  {
   "cell_type": "code",
   "execution_count": 90,
   "metadata": {
    "collapsed": true
   },
   "outputs": [],
   "source": [
    "import heapq\n",
    "def merge_arrays_PQ(arrays):\n",
    "    if not arrays or len(arrays) == 0:\n",
    "        return None\n",
    " \n",
    "    if len(arrays) == 1:\n",
    "        return arrays[0]\n",
    "    pq = []\n",
    "    n = len(arrays)\n",
    "    size = 0\n",
    "    for i in range(n):\n",
    "        heapq.heappush(pq,QueueNode(i,0,arrays[i][0]))\n",
    "        size += len(arrays[i])\n",
    "    \n",
    "    res = []\n",
    "    while pq:\n",
    "        cur = heapq.heappop(pq)\n",
    "        res.append(cur.value)\n",
    "        new_index = cur.index + 1\n",
    "        \n",
    "        if new_index < len(arrays[cur.array_index]):\n",
    "            heapq.heappush(pq,QueueNode(cur.array_index,new_index,arrays[cur.array_index][new_index]))\n",
    "    return res"
   ]
  },
  {
   "cell_type": "code",
   "execution_count": 91,
   "metadata": {},
   "outputs": [
    {
     "data": {
      "text/plain": [
       "[1, 2, 3, 5, 6, 8, 9, 10]"
      ]
     },
     "execution_count": 91,
     "metadata": {},
     "output_type": "execute_result"
    }
   ],
   "source": [
    "merge_arrays_PQ([[1],[2,5,8,10],[3,6,9]])"
   ]
  },
  {
   "cell_type": "code",
   "execution_count": null,
   "metadata": {
    "collapsed": true
   },
   "outputs": [],
   "source": []
  }
 ],
 "metadata": {
  "kernelspec": {
   "display_name": "Python 3",
   "language": "python",
   "name": "python3"
  },
  "language_info": {
   "codemirror_mode": {
    "name": "ipython",
    "version": 3
   },
   "file_extension": ".py",
   "mimetype": "text/x-python",
   "name": "python",
   "nbconvert_exporter": "python",
   "pygments_lexer": "ipython3",
   "version": "3.6.2"
  }
 },
 "nbformat": 4,
 "nbformat_minor": 2
}
