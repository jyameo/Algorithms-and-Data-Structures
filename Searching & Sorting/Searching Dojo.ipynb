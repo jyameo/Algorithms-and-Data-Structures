{
 "cells": [
  {
   "cell_type": "markdown",
   "metadata": {
    "collapsed": true
   },
   "source": [
    "# Median of Arrays\n",
    "\n",
    "Question\n",
    "\n",
    "Find the median of two sorted arrays.\n",
    "\n",
    "eg.\n",
    "\n",
    "\n",
    "arr1 = [1, 3, 5]\n",
    "arr2 = [2, 4, 6]\n",
    "\n",
    "median(arr1, arr2) = 3.5"
   ]
  },
  {
   "cell_type": "code",
   "execution_count": 15,
   "metadata": {
    "collapsed": true
   },
   "outputs": [],
   "source": [
    "def median_of_arrays(arr1,arr2):\n",
    "    if not arr1 or not arr2:\n",
    "        return 0\n",
    "    n = len(arr1)\n",
    "    m = len(arr2)\n",
    "    \n",
    "    if (n + m) % 2 == 1:\n",
    "        return find_kth(arr1,arr2,(n+m)//2)\n",
    "    else:\n",
    "        return (find_kth(arr1,arr2,((n+m)//2)-1) + find_kth(arr1,arr2,(n+m)//2))/2"
   ]
  },
  {
   "cell_type": "code",
   "execution_count": 27,
   "metadata": {
    "collapsed": true
   },
   "outputs": [],
   "source": [
    "def find_kth(arr1,arr2,k):\n",
    "    if not arr1:\n",
    "        return arr2[k]\n",
    "    if not arr2:\n",
    "        return arr1[k]\n",
    "    \n",
    "    mid1 = len(arr1)//2\n",
    "    mid2 = len(arr2)//2\n",
    "    if k <= mid1 + mid2:\n",
    "        if arr1[mid1] > arr2[mid2]:\n",
    "            return find_kth(arr1[:mid1],arr2,k)\n",
    "        else:\n",
    "            return find_kth(arr1,arr2[:mid2],k)\n",
    "    else:\n",
    "        if arr1[mid1] > arr2[mid2]:\n",
    "            return find_kth(arr1,arr2[mid2+1:],k - mid2 - 1)\n",
    "        else:\n",
    "            return find_kth(arr1[mid1+1:],arr2,k - mid1 - 1)"
   ]
  },
  {
   "cell_type": "markdown",
   "metadata": {},
   "source": [
    "    Example Trace\n",
    "    median_of_arrays([1,3,5],[2,4,6])\n",
    "\n",
    "    findkth([1,3,5],[2,4,6],2) + findktk(a,b,3)\n",
    "    mid1 = 1\n",
    "    mid2 = 1\n",
    "\n",
    "    findkth([1,3,5],[2],2)\n",
    "    mid1 = 1\n",
    "    mid2 = 0\n",
    "\n",
    "    findkth([1,3,5],1)\n",
    "    >>> 3"
   ]
  },
  {
   "cell_type": "code",
   "execution_count": 29,
   "metadata": {},
   "outputs": [
    {
     "data": {
      "text/plain": [
       "3.5"
      ]
     },
     "execution_count": 29,
     "metadata": {},
     "output_type": "execute_result"
    }
   ],
   "source": [
    "median_of_arrays([1,3,5],[2,4,6])"
   ]
  },
  {
   "cell_type": "code",
   "execution_count": null,
   "metadata": {
    "collapsed": true
   },
   "outputs": [],
   "source": []
  },
  {
   "cell_type": "code",
   "execution_count": null,
   "metadata": {
    "collapsed": true
   },
   "outputs": [],
   "source": []
  },
  {
   "cell_type": "markdown",
   "metadata": {},
   "source": [
    "# Random Binary Tree"
   ]
  },
  {
   "cell_type": "code",
   "execution_count": 35,
   "metadata": {
    "collapsed": true
   },
   "outputs": [],
   "source": [
    "class Node:\n",
    "    def __init__(self,value):\n",
    "        self.value = value\n",
    "        self.left = []\n",
    "        self.right = []\n",
    "        size = 0"
   ]
  },
  {
   "cell_type": "code",
   "execution_count": 36,
   "metadata": {
    "collapsed": true
   },
   "outputs": [],
   "source": [
    "n8 = Node(8)\n",
    "n7 = Node(7)\n",
    "n6 = Node(6)\n",
    "n5 = Node(5)\n",
    "n3 = Node(3)\n",
    "n2 = Node(2)\n",
    "n1 = Node(1)\n",
    "n5.left = n2\n",
    "n5.right = n7\n",
    "n2.left = n1\n",
    "n2.right = n3\n",
    "n7.left = n6\n",
    "n7.right = n8"
   ]
  },
  {
   "cell_type": "code",
   "execution_count": 70,
   "metadata": {
    "collapsed": true
   },
   "outputs": [],
   "source": [
    "import random\n",
    "class RandomBT:\n",
    "    def __init__(self,node):\n",
    "        self.root = node\n",
    "        self.compute_subtree_size(self.root)\n",
    "    \n",
    "    def compute_subtree_size(self,node):\n",
    "        if not node:\n",
    "            return 0\n",
    "        node.size = self.compute_subtree_size(node.left) + self.compute_subtree_size(node.right) + 1\n",
    "        return node.size\n",
    "            \n",
    "    \n",
    "    def get_random_node(self):\n",
    "        if not self.root:\n",
    "            raise ValueErro\n",
    "        \n",
    "        if self.root.size <= 1:\n",
    "            return self.root.value\n",
    "            \n",
    "        rand_index = random.randrange(self.root.size)\n",
    "        print(rand_index)\n",
    "        rand_node = self._get_index(self.root,rand_index)\n",
    "        if rand_node:\n",
    "            return rand_node.value\n",
    "        else:\n",
    "            raise Exception(\"Unexpected return\")\n",
    "    \n",
    "    def _get_index(self, node,index):\n",
    "        if not node or index < 0:\n",
    "            return None\n",
    "        \n",
    "        if not node.left and index == 0:\n",
    "            return node\n",
    "        \n",
    "        if node.left.size == index:\n",
    "            return node\n",
    "        \n",
    "        elif node.left.size > index:\n",
    "            return self._get_index(node.left,index)\n",
    "        else:\n",
    "            return self._get_index(node.right,index - node.left.size - 1)"
   ]
  },
  {
   "cell_type": "code",
   "execution_count": 71,
   "metadata": {
    "collapsed": true
   },
   "outputs": [],
   "source": [
    "r = RandomBT(n5)"
   ]
  },
  {
   "cell_type": "code",
   "execution_count": 72,
   "metadata": {},
   "outputs": [
    {
     "name": "stdout",
     "output_type": "stream",
     "text": [
      "1\n"
     ]
    },
    {
     "data": {
      "text/plain": [
       "2"
      ]
     },
     "execution_count": 72,
     "metadata": {},
     "output_type": "execute_result"
    }
   ],
   "source": [
    "r.get_random_node()"
   ]
  },
  {
   "cell_type": "code",
   "execution_count": null,
   "metadata": {
    "collapsed": true
   },
   "outputs": [],
   "source": []
  },
  {
   "cell_type": "code",
   "execution_count": null,
   "metadata": {
    "collapsed": true
   },
   "outputs": [],
   "source": []
  },
  {
   "cell_type": "markdown",
   "metadata": {},
   "source": [
    "# Matrix Search\n",
    "\n",
    "Question\n",
    "\n",
    "Given an n x m array where all rows and columns are in sorted order, write a function to determine whether the array contains an element x"
   ]
  },
  {
   "cell_type": "code",
   "execution_count": null,
   "metadata": {
    "collapsed": true
   },
   "outputs": [],
   "source": []
  },
  {
   "cell_type": "code",
   "execution_count": 13,
   "metadata": {},
   "outputs": [],
   "source": [
    "def matrix_search(matrix, x):\n",
    "    if not matrix or len(matrix) == 0 or len(matrix[0]) == 0:\n",
    "        return False\n",
    "    \n",
    "    row = 0\n",
    "    col = len(matrix[0])-1\n",
    "    \n",
    "    while row < len(matrix) and col >= 0:\n",
    "        if matrix[row][col] == x: return True\n",
    "        elif matrix[row][col] < x: row+=1\n",
    "        else: col-=1\n",
    "    return False"
   ]
  },
  {
   "cell_type": "code",
   "execution_count": 18,
   "metadata": {},
   "outputs": [
    {
     "data": {
      "text/plain": [
       "True"
      ]
     },
     "execution_count": 18,
     "metadata": {},
     "output_type": "execute_result"
    }
   ],
   "source": [
    "m = [[1,  2,  3,  4],\n",
    "     [5,  6,  7,  8],\n",
    "     [9, 10, 11, 12]]\n",
    "matrix_search(m,7)"
   ]
  },
  {
   "cell_type": "code",
   "execution_count": null,
   "metadata": {
    "collapsed": true
   },
   "outputs": [],
   "source": []
  },
  {
   "cell_type": "code",
   "execution_count": 62,
   "metadata": {
    "collapsed": true
   },
   "outputs": [],
   "source": [
    "def permutation(nums):\n",
    "    n = len(nums)\n",
    "    if n < 1:\n",
    "        return \n",
    "    \n",
    "    def dfs(pos):\n",
    "        if pos == n:\n",
    "            print(nums)\n",
    "            return\n",
    "        \n",
    "        for i in range(pos,n):\n",
    "            nums[i], nums[pos] = nums[pos], nums[i]\n",
    "            dfs(pos+1)\n",
    "            nums[i], nums[pos] = nums[pos], nums[i]\n",
    "    dfs(0)"
   ]
  },
  {
   "cell_type": "code",
   "execution_count": 63,
   "metadata": {},
   "outputs": [
    {
     "name": "stdout",
     "output_type": "stream",
     "text": [
      "[1, 2, 3]\n",
      "[1, 3, 2]\n",
      "[2, 1, 3]\n",
      "[2, 3, 1]\n",
      "[3, 2, 1]\n",
      "[3, 1, 2]\n"
     ]
    }
   ],
   "source": [
    "permutation([1,2,3])"
   ]
  },
  {
   "cell_type": "code",
   "execution_count": 79,
   "metadata": {},
   "outputs": [],
   "source": [
    "def combination(nums,k):\n",
    "    n = len(nums)\n",
    "    if n <= 0:\n",
    "        return\n",
    "    \n",
    "    def dfs(steps,pos,path):\n",
    "        if steps == k:\n",
    "            print(path)\n",
    "            return\n",
    "\n",
    "        for i in range(pos,n):\n",
    "            steps += 1\n",
    "            dfs(steps, i+1, path + [nums[i]])\n",
    "            steps -= 1\n",
    "    dfs(0,0,[])"
   ]
  },
  {
   "cell_type": "code",
   "execution_count": 80,
   "metadata": {},
   "outputs": [
    {
     "name": "stdout",
     "output_type": "stream",
     "text": [
      "[1, 2]\n",
      "[1, 3]\n",
      "[1, 4]\n",
      "[2, 3]\n",
      "[2, 4]\n",
      "[3, 4]\n"
     ]
    }
   ],
   "source": [
    "combination([1,2,3,4],2)"
   ]
  },
  {
   "cell_type": "code",
   "execution_count": 85,
   "metadata": {
    "collapsed": true
   },
   "outputs": [],
   "source": [
    "def combination_sum(nums,target):\n",
    "    if not nums or len(nums) == 0:\n",
    "        return \n",
    "    n = len(nums)\n",
    "    \n",
    "    def dfs(pos,target,path):\n",
    "        if target == 0:\n",
    "            print(path)\n",
    "            return\n",
    "        \n",
    "        for i in range(pos,n):\n",
    "            if target >= nums[i]:\n",
    "                dfs(i,target-nums[i],path + [nums[i]])\n",
    "    dfs(0,target,[])"
   ]
  },
  {
   "cell_type": "code",
   "execution_count": 88,
   "metadata": {},
   "outputs": [
    {
     "name": "stdout",
     "output_type": "stream",
     "text": [
      "[1, 1, 1, 1]\n",
      "[1, 1, 2]\n",
      "[1, 3]\n",
      "[2, 2]\n",
      "[4]\n"
     ]
    }
   ],
   "source": [
    "combination_sum([1,2,3,4],4)"
   ]
  },
  {
   "cell_type": "markdown",
   "metadata": {},
   "source": []
  },
  {
   "cell_type": "code",
   "execution_count": null,
   "metadata": {
    "collapsed": true
   },
   "outputs": [],
   "source": []
  },
  {
   "cell_type": "markdown",
   "metadata": {},
   "source": [
    "# 3 SUM\n",
    "Question\n",
    "\n",
    "Given a list of integers, write a function that returns all sets of 3 numbers in the list, a, b, and c, so that a + b + c == 0.\n",
    "\n",
    "eg.\n",
    "\n",
    "\n",
    "threeSum({-1, 0, 1, 2, -1, -4}) >>>\n",
    "[-1, -1, 2],\n",
    "[-1, 0, 1]"
   ]
  },
  {
   "cell_type": "code",
   "execution_count": 118,
   "metadata": {
    "collapsed": true
   },
   "outputs": [],
   "source": [
    "def three_sum(nums):\n",
    "    if not nums or len(nums) == 0:\n",
    "        return\n",
    "    sorted_nums = sorted(nums)\n",
    "    n = len(nums)\n",
    "    for i in range(n-3):\n",
    "        if i == 0 or sorted_nums[i] > sorted_nums[i-1]:\n",
    "            j = i+1\n",
    "            k = n-1\n",
    "            while j < k:\n",
    "                if sorted_nums[i] + sorted_nums[j] + sorted_nums[k] == 0:\n",
    "                    print(sorted_nums[i],sorted_nums[j],sorted_nums[k])\n",
    "                    j +=1\n",
    "                    k -= 1\n",
    "                elif sorted_nums[i] + sorted_nums[j] + sorted_nums[k] < 0:\n",
    "                    j += 1\n",
    "                else:\n",
    "                    k -= 1"
   ]
  },
  {
   "cell_type": "code",
   "execution_count": 119,
   "metadata": {},
   "outputs": [
    {
     "name": "stdout",
     "output_type": "stream",
     "text": [
      "-4 -1 5\n",
      "-1 0 1\n"
     ]
    }
   ],
   "source": [
    "three_sum([-1,0,1,5,-1,-4])"
   ]
  },
  {
   "cell_type": "code",
   "execution_count": null,
   "metadata": {
    "collapsed": true
   },
   "outputs": [],
   "source": []
  }
 ],
 "metadata": {
  "kernelspec": {
   "display_name": "Python 3",
   "language": "python",
   "name": "python3"
  },
  "language_info": {
   "codemirror_mode": {
    "name": "ipython",
    "version": 3
   },
   "file_extension": ".py",
   "mimetype": "text/x-python",
   "name": "python",
   "nbconvert_exporter": "python",
   "pygments_lexer": "ipython3",
   "version": "3.6.2"
  }
 },
 "nbformat": 4,
 "nbformat_minor": 2
}
