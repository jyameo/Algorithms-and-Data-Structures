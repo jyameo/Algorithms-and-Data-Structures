{
 "cells": [
  {
   "cell_type": "markdown",
   "metadata": {},
   "source": [
    "# Linked List Cycles\n",
    "\n",
    "Given a linked list, determine whether it contains a cycle."
   ]
  },
  {
   "cell_type": "code",
   "execution_count": 1,
   "metadata": {
    "collapsed": true
   },
   "outputs": [],
   "source": [
    "def is_cyclic(head):\n",
    "    if not head or not head.next:\n",
    "        return False\n",
    "    slow = head\n",
    "    fast = head.next\n",
    "    \n",
    "    while fast and fast.next:\n",
    "        if id(fast) == id(slow):\n",
    "            return True\n",
    "        slow = slow.next\n",
    "        fast = fast.next.next\n",
    "    return False"
   ]
  },
  {
   "cell_type": "code",
   "execution_count": null,
   "metadata": {
    "collapsed": true
   },
   "outputs": [],
   "source": []
  },
  {
   "cell_type": "code",
   "execution_count": null,
   "metadata": {
    "collapsed": true
   },
   "outputs": [],
   "source": []
  },
  {
   "cell_type": "markdown",
   "metadata": {},
   "source": [
    "# Random Linked List\n",
    "\n",
    "Question\n",
    "Given a linked list where each node has two pointers, one to the next node and one to a random node in the list, clone the linked list."
   ]
  },
  {
   "cell_type": "code",
   "execution_count": 3,
   "metadata": {
    "collapsed": true
   },
   "outputs": [],
   "source": [
    "def random_ll(head):\n",
    "    if not head:\n",
    "        return head\n",
    "    cur = head\n",
    "    while cur:\n",
    "        new_node = Node(cur.value)\n",
    "        new_node.next = cur.next\n",
    "        cur.next = new_node\n",
    "        cur = cur.next.next\n",
    "    \n",
    "    cur = head\n",
    "    while cur:\n",
    "        cur.next.random = cur.random.next\n",
    "    \n",
    "    \n",
    "    cur = head\n",
    "    copy = cur.next\n",
    "    \n",
    "    while cur.next:\n",
    "        tmp = cur.next\n",
    "        cur.next = cur.next.next\n",
    "        cur = tmp\n",
    "    \n",
    "    return copy"
   ]
  },
  {
   "cell_type": "code",
   "execution_count": null,
   "metadata": {
    "collapsed": true
   },
   "outputs": [],
   "source": []
  },
  {
   "cell_type": "code",
   "execution_count": null,
   "metadata": {
    "collapsed": true
   },
   "outputs": [],
   "source": []
  },
  {
   "cell_type": "code",
   "execution_count": null,
   "metadata": {
    "collapsed": true
   },
   "outputs": [],
   "source": []
  }
 ],
 "metadata": {
  "kernelspec": {
   "display_name": "Python 3",
   "language": "python",
   "name": "python3"
  },
  "language_info": {
   "codemirror_mode": {
    "name": "ipython",
    "version": 3
   },
   "file_extension": ".py",
   "mimetype": "text/x-python",
   "name": "python",
   "nbconvert_exporter": "python",
   "pygments_lexer": "ipython3",
   "version": "3.6.2"
  }
 },
 "nbformat": 4,
 "nbformat_minor": 2
}
