{
 "cells": [
  {
   "cell_type": "code",
   "execution_count": 78,
   "metadata": {},
   "outputs": [],
   "source": [
    "class Node:\n",
    "    def __init__(self,val):\n",
    "        self.value = val\n",
    "        self.visited = False\n",
    "        self.color = 0\n",
    "        self.edges = []\n",
    "\n",
    "class GraphColoring:\n",
    "    def __init__(self,graph,colors,vertices):\n",
    "        self.graph = graph\n",
    "        self.colors = colors\n",
    "        self.vertices_number = vertices\n",
    "        \n",
    "    def color(self):\n",
    "        if not self.graph:\n",
    "            raise TypeError(\"Initialize with valid graph!\")\n",
    "\n",
    "        if self.colors <= 0:\n",
    "            raise ValueError(\"Invalid color number initialization\")\n",
    "\n",
    "        if self.vertices_number <= 0:\n",
    "            raise ValueError(\"Invalid vertices number initialization\")\n",
    "\n",
    "        for index, node in enumerate(self.graph):\n",
    "            if not node.visited:\n",
    "                if not self._solve(node):\n",
    "                    print(\"No Solution\")\n",
    "                    break\n",
    "        \n",
    "        for node in self.graph:\n",
    "            print(node.value + ' : ' + str(node.color))\n",
    "\n",
    "    def _solve(self, node):\n",
    "        print(\"solving {}\".format(node.value))\n",
    "        if node.visited:\n",
    "            return False\n",
    "        node.visited = True\n",
    "        \n",
    "        for color_index in range(1,self.colors+1):\n",
    "            if self.is_valid_color(node,color_index):\n",
    "                node.color = color_index\n",
    "                for neighbor in node.edges:\n",
    "                    if not neighbor.visited:\n",
    "                        return self._solve(neighbor)\n",
    "                        \n",
    "        return True if node.color != 0 else False\n",
    "\n",
    "    def is_valid_color(self,node,color):\n",
    "        for neighbor in node.edges:\n",
    "            if neighbor.visited and neighbor.color == color:\n",
    "                return False\n",
    "        return True"
   ]
  },
  {
   "cell_type": "code",
   "execution_count": 79,
   "metadata": {},
   "outputs": [
    {
     "name": "stdout",
     "output_type": "stream",
     "text": [
      "solving A\n",
      "solving B\n",
      "solving C\n",
      "solving D\n",
      "solving F\n",
      "solving E\n",
      "A : 1\n",
      "B : 2\n",
      "C : 3\n",
      "D : 2\n",
      "E : 3\n",
      "F : 1\n"
     ]
    }
   ],
   "source": [
    "a = Node('A')\n",
    "b = Node('B')\n",
    "c = Node('C')\n",
    "d = Node('D')\n",
    "e = Node('E')\n",
    "f = Node('F')\n",
    "\n",
    "a.edges.append(b)\n",
    "b.edges.append(a)\n",
    "\n",
    "a.edges.append(c)\n",
    "c.edges.append(a)\n",
    "\n",
    "b.edges.append(c)\n",
    "c.edges.append(b)\n",
    "\n",
    "a.edges.append(d)\n",
    "d.edges.append(a)\n",
    "\n",
    "c.edges.append(d)\n",
    "d.edges.append(c)\n",
    "\n",
    "d.edges.append(f)\n",
    "f.edges.append(d)\n",
    "\n",
    "c.edges.append(f)\n",
    "f.edges.append(c)\n",
    "\n",
    "b.edges.append(f)\n",
    "f.edges.append(b)\n",
    "\n",
    "e.edges.append(f)\n",
    "f.edges.append(e)\n",
    "\n",
    "b.edges.append(e)\n",
    "e.edges.append(b)\n",
    "\n",
    "g = [a,b,c,d,e,f]\n",
    "gc = GraphColoring(g,3,6)\n",
    "gc.color()"
   ]
  },
  {
   "cell_type": "code",
   "execution_count": null,
   "metadata": {},
   "outputs": [],
   "source": []
  },
  {
   "cell_type": "code",
   "execution_count": null,
   "metadata": {
    "collapsed": true
   },
   "outputs": [],
   "source": []
  },
  {
   "cell_type": "code",
   "execution_count": null,
   "metadata": {
    "collapsed": true
   },
   "outputs": [],
   "source": []
  }
 ],
 "metadata": {
  "kernelspec": {
   "display_name": "Python 3",
   "language": "python",
   "name": "python3"
  },
  "language_info": {
   "codemirror_mode": {
    "name": "ipython",
    "version": 3
   },
   "file_extension": ".py",
   "mimetype": "text/x-python",
   "name": "python",
   "nbconvert_exporter": "python",
   "pygments_lexer": "ipython3",
   "version": "3.6.2"
  }
 },
 "nbformat": 4,
 "nbformat_minor": 2
}
