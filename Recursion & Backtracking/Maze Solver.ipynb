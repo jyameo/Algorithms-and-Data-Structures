{
 "cells": [
  {
   "cell_type": "code",
   "execution_count": 39,
   "metadata": {},
   "outputs": [],
   "source": [
    "class MazeSolver:\n",
    "    def __init__(self, maze):\n",
    "        self.maze_size = len(maze)\n",
    "        self.solution = [[0 for _ in range(self.maze_size)] for _ in range(self.maze_size)]\n",
    "        self.maze = maze\n",
    "        \n",
    "    def solve(self,):\n",
    "        if not self.maze:\n",
    "            raise TypeError(\"Initialize with valid maze\")\n",
    "        \n",
    "        if self._solve(0,0,0):\n",
    "            self.print_solution()\n",
    "        else:\n",
    "            print(\"No solution\")\n",
    "    \n",
    "    def _solve(self,x,y,step_count):\n",
    "        if x == self.maze_size-1 and y == self.maze_size-1:\n",
    "            step_count += 1\n",
    "            self.solution[x][y] = step_count\n",
    "            return True\n",
    "        \n",
    "        if self.valid_move(x,y):\n",
    "            step_count += 1\n",
    "            self.solution[x][y] = step_count\n",
    "            \n",
    "            if self._solve(x+1,y,step_count):\n",
    "                return True\n",
    "            if self._solve(x,y+1,step_count):\n",
    "                return True\n",
    "            \n",
    "            self.solution[x][y] = 0\n",
    "        \n",
    "        return False\n",
    "    \n",
    "    def valid_move(self,x,y):\n",
    "        if x < 0 or x >= self.maze_size \\\n",
    "            or y < 0 or y >= self.maze_size \\\n",
    "                or self.maze[x][y] == 0:\n",
    "            return False\n",
    "        \n",
    "        return True\n",
    "    \n",
    "    def print_solution(self):\n",
    "        for row in range(self.maze_size):\n",
    "            for col in range(self.maze_size):\n",
    "                if self.solution[row][col] > 0:\n",
    "                    print(self.solution[row][col], end='\\t')\n",
    "                else:\n",
    "                    print('-',end='\\t')\n",
    "            print('\\n')"
   ]
  },
  {
   "cell_type": "code",
   "execution_count": 40,
   "metadata": {},
   "outputs": [
    {
     "name": "stdout",
     "output_type": "stream",
     "text": [
      "1\t2\t3\t4\t-\t\n",
      "\n",
      "-\t-\t-\t5\t-\t\n",
      "\n",
      "-\t-\t-\t6\t-\t\n",
      "\n",
      "-\t-\t-\t7\t8\t\n",
      "\n",
      "-\t-\t-\t-\t9\t\n",
      "\n"
     ]
    }
   ],
   "source": [
    "maze = [[1,1,1,1,1],\n",
    "        [1,0,0,1,0],\n",
    "        [0,0,0,1,0],\n",
    "        [1,1,1,1,1],\n",
    "        [1,1,1,0,1]]\n",
    "m = MazeSolver(maze)\n",
    "m.solve()"
   ]
  },
  {
   "cell_type": "code",
   "execution_count": null,
   "metadata": {
    "collapsed": true
   },
   "outputs": [],
   "source": []
  }
 ],
 "metadata": {
  "kernelspec": {
   "display_name": "Python 3",
   "language": "python",
   "name": "python3"
  },
  "language_info": {
   "codemirror_mode": {
    "name": "ipython",
    "version": 3
   },
   "file_extension": ".py",
   "mimetype": "text/x-python",
   "name": "python",
   "nbconvert_exporter": "python",
   "pygments_lexer": "ipython3",
   "version": "3.6.2"
  }
 },
 "nbformat": 4,
 "nbformat_minor": 2
}
