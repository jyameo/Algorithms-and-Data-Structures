{
 "cells": [
  {
   "cell_type": "code",
   "execution_count": 32,
   "metadata": {
    "collapsed": true
   },
   "outputs": [],
   "source": [
    "class Nqueen:\n",
    "    def __init__(self,n):\n",
    "        self.number_of_queens = n\n",
    "        self.board = [[0 for _ in range(n)] for _ in range(n)]\n",
    "    \n",
    "    def solve(self):\n",
    "        if self._solver(0):\n",
    "            self.print_queue()\n",
    "        else:\n",
    "            print(\"No solution\")\n",
    "    \n",
    "    def _solver(self,col_index):\n",
    "        if col_index == self.number_of_queens:\n",
    "            return True\n",
    "\n",
    "        for row_index in range(self.number_of_queens):\n",
    "            if self.is_valid_move(row_index, col_index):\n",
    "                self.board[row_index][col_index] = 1\n",
    "                if self._solver(col_index+1):\n",
    "                    return True\n",
    "                self.board[row_index][col_index] = 0\n",
    "        return False\n",
    "    \n",
    "    def is_valid_move(self,row,col):\n",
    "        for i in range(col):\n",
    "            if self.board[row][i] == 1:\n",
    "                return False\n",
    "        \n",
    "        j = col\n",
    "        for i in range(row,-1,-1):\n",
    "            if self.board[i][j] == 1:\n",
    "                return False\n",
    "            j -= 1\n",
    "            \n",
    "        j = col\n",
    "        for i in range(row,self.number_of_queens):\n",
    "            if j < 0 :\n",
    "                break\n",
    "            if self.board[i][j] == 1:\n",
    "                return False\n",
    "            j -= 1\n",
    "            \n",
    "        return True\n",
    "    \n",
    "    def print_queue(self):\n",
    "        for i in range(self.number_of_queens):\n",
    "            for j in range(self.number_of_queens):\n",
    "                if self.board[i][j] == 1: print('Q\\t|\\t',end='')\n",
    "                else: print(\"*\\t|\\t\",end='')\n",
    "            print('\\n')"
   ]
  },
  {
   "cell_type": "code",
   "execution_count": 33,
   "metadata": {},
   "outputs": [
    {
     "name": "stdout",
     "output_type": "stream",
     "text": [
      "*\t|\t*\t|\tQ\t|\t*\t|\t\n",
      "\n",
      "Q\t|\t*\t|\t*\t|\t*\t|\t\n",
      "\n",
      "*\t|\t*\t|\t*\t|\tQ\t|\t\n",
      "\n",
      "*\t|\tQ\t|\t*\t|\t*\t|\t\n",
      "\n"
     ]
    }
   ],
   "source": [
    "nq = Nqueen(4)\n",
    "nq.solve()"
   ]
  },
  {
   "cell_type": "code",
   "execution_count": null,
   "metadata": {
    "collapsed": true
   },
   "outputs": [],
   "source": []
  }
 ],
 "metadata": {
  "kernelspec": {
   "display_name": "Python 3",
   "language": "python",
   "name": "python3"
  },
  "language_info": {
   "codemirror_mode": {
    "name": "ipython",
    "version": 3
   },
   "file_extension": ".py",
   "mimetype": "text/x-python",
   "name": "python",
   "nbconvert_exporter": "python",
   "pygments_lexer": "ipython3",
   "version": "3.6.2"
  }
 },
 "nbformat": 4,
 "nbformat_minor": 2
}
