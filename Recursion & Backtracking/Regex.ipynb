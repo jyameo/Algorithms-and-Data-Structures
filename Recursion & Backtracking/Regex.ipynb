{
 "cells": [
  {
   "cell_type": "code",
   "execution_count": 5,
   "metadata": {},
   "outputs": [],
   "source": [
    "def regex_eval(text, pattern):\n",
    "    if not pattern:\n",
    "        return not text\n",
    "    \n",
    "    if len(pattern) > 1 and pattern[-1] == '*':\n",
    "        if text and (text[-1] == pattern[-2] or pattern[-2] == '.'):\n",
    "            return regex_eval(text, pattern[:-2]) or regex_eval(text[:-1],pattern)\n",
    "        else:\n",
    "            return regex_eval(text,pattern[:-2])\n",
    "    else:\n",
    "        if text and (pattern[-1] == '.' or text[-1] == pattern[-1]):\n",
    "            return regex_eval(text[:-1],pattern[:-1])\n",
    "        else:\n",
    "            return False"
   ]
  },
  {
   "cell_type": "code",
   "execution_count": 8,
   "metadata": {},
   "outputs": [
    {
     "data": {
      "text/plain": [
       "True"
      ]
     },
     "execution_count": 8,
     "metadata": {},
     "output_type": "execute_result"
    }
   ],
   "source": [
    "regex_eval(\"aab\", \"c*a*b\")"
   ]
  },
  {
   "cell_type": "code",
   "execution_count": null,
   "metadata": {
    "collapsed": true
   },
   "outputs": [],
   "source": []
  }
 ],
 "metadata": {
  "kernelspec": {
   "display_name": "Python 3",
   "language": "python",
   "name": "python3"
  },
  "language_info": {
   "codemirror_mode": {
    "name": "ipython",
    "version": 3
   },
   "file_extension": ".py",
   "mimetype": "text/x-python",
   "name": "python",
   "nbconvert_exporter": "python",
   "pygments_lexer": "ipython3",
   "version": "3.6.2"
  }
 },
 "nbformat": 4,
 "nbformat_minor": 2
}
