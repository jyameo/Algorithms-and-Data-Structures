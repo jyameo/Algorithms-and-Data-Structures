{
 "cells": [
  {
   "cell_type": "code",
   "execution_count": 93,
   "metadata": {},
   "outputs": [],
   "source": [
    "class Node():\n",
    "    def __init__(self,val):\n",
    "        self.value = val\n",
    "        self.edges = []\n",
    "        self.visited = False\n",
    "        \n",
    "class HamitonianPath:\n",
    "    def __init__(self, node, num):\n",
    "        self.path = []\n",
    "        self.graph = node\n",
    "        self.vertex_num = num\n",
    "        \n",
    "    def compute(self):\n",
    "        if not self.graph:\n",
    "            raise TypeError\n",
    "        if not self.graph.edges:\n",
    "            return [self.graph.value]\n",
    "        \n",
    "        self.path.clear()\n",
    "        self.path.append(self.graph.value)\n",
    "        \n",
    "        self.dfs(self.graph.edges[0])\n",
    "        print(self.path)\n",
    "    \n",
    "    def dfs(self,node):\n",
    "        node.visited = True   \n",
    "        print('visiting {}'.format(node.value))\n",
    "        self.path.append(node.value)\n",
    "        for vertex in node.edges:\n",
    "            if not vertex.visited:\n",
    "                self.dfs(vertex)"
   ]
  },
  {
   "cell_type": "code",
   "execution_count": 94,
   "metadata": {
    "collapsed": true
   },
   "outputs": [],
   "source": [
    "a = Node('A')\n",
    "b = Node('B')\n",
    "c = Node('C')\n",
    "d = Node('D')\n",
    "a.edges.append(b)\n",
    "a.edges.append(c)\n",
    "b.edges.append(a)\n",
    "c.edges.append(d)\n",
    "d.edges.append(b)\n",
    "d.edges.append(c)\n",
    "c.edges.append(a)\n",
    "b.edges.append(d)"
   ]
  },
  {
   "cell_type": "code",
   "execution_count": 95,
   "metadata": {},
   "outputs": [
    {
     "name": "stdout",
     "output_type": "stream",
     "text": [
      "visiting B\n",
      "visiting A\n",
      "visiting C\n",
      "visiting D\n",
      "['A', 'B', 'A', 'C', 'D']\n"
     ]
    }
   ],
   "source": [
    "h = HamitonianPath(a,4)\n",
    "h.compute()"
   ]
  },
  {
   "cell_type": "code",
   "execution_count": null,
   "metadata": {
    "collapsed": true
   },
   "outputs": [],
   "source": []
  },
  {
   "cell_type": "code",
   "execution_count": null,
   "metadata": {
    "collapsed": true
   },
   "outputs": [],
   "source": []
  }
 ],
 "metadata": {
  "kernelspec": {
   "display_name": "Python 3",
   "language": "python",
   "name": "python3"
  },
  "language_info": {
   "codemirror_mode": {
    "name": "ipython",
    "version": 3
   },
   "file_extension": ".py",
   "mimetype": "text/x-python",
   "name": "python",
   "nbconvert_exporter": "python",
   "pygments_lexer": "ipython3",
   "version": "3.6.2"
  }
 },
 "nbformat": 4,
 "nbformat_minor": 2
}
