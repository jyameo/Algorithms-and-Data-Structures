{
 "cells": [
  {
   "cell_type": "code",
   "execution_count": 3,
   "metadata": {},
   "outputs": [],
   "source": [
    "def findMedian(arr1,arr2):\n",
    "    if not arr1 or len(arr1) != len(arr2):\n",
    "        return 0\n",
    "    return findMedianRec(arr1,arr2)\n",
    "\n",
    "def getMedian(arr):\n",
    "    if len(arr) % 2 == 0:\n",
    "        return (arr[len(arr)//2 - 1] + arr[len(arr)//2])/2\n",
    "    return arr[len(arr)//2]\n",
    "\n",
    "def findMedianRec(arr1,arr2):\n",
    "    if len(arr1) == 1:\n",
    "        return (arr1[0] + arr2[0])/2\n",
    "    elif len(arr2) == 2:\n",
    "        num1 = max(arr1[0],arr2[0])\n",
    "        num2 = min(arr1[-1],arr2[-1])\n",
    "        return (num1 + num2)/2\n",
    "    else:\n",
    "        median1 = getMedian(arr1)\n",
    "        median2 = getMedian(arr2)\n",
    "        \n",
    "        if median1 > median2:\n",
    "            return findMedianRec(arr1[:len(arr1)//2+1], arr2[(len(arr2)-1)//2:])\n",
    "        else:\n",
    "            return findMedianRec(arr2[:len(arr2)//2+1], arr1[(len(arr1)-1)//2:])\n",
    "        "
   ]
  },
  {
   "cell_type": "code",
   "execution_count": 5,
   "metadata": {},
   "outputs": [
    {
     "name": "stdout",
     "output_type": "stream",
     "text": [
      "3.5\n"
     ]
    }
   ],
   "source": [
    "arr1 = [1,3, 5]\n",
    "arr2 = [2, 4, 6]\n",
    "print(findMedian(arr1,arr2))"
   ]
  },
  {
   "cell_type": "code",
   "execution_count": null,
   "metadata": {
    "collapsed": true
   },
   "outputs": [],
   "source": []
  },
  {
   "cell_type": "code",
   "execution_count": null,
   "metadata": {
    "collapsed": true
   },
   "outputs": [],
   "source": []
  }
 ],
 "metadata": {
  "kernelspec": {
   "display_name": "Python 3",
   "language": "python",
   "name": "python3"
  },
  "language_info": {
   "codemirror_mode": {
    "name": "ipython",
    "version": 3
   },
   "file_extension": ".py",
   "mimetype": "text/x-python",
   "name": "python",
   "nbconvert_exporter": "python",
   "pygments_lexer": "ipython3",
   "version": "3.6.2"
  }
 },
 "nbformat": 4,
 "nbformat_minor": 2
}
